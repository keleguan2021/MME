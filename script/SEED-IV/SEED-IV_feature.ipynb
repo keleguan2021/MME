{
 "cells": [
  {
   "cell_type": "code",
   "execution_count": 1,
   "metadata": {},
   "outputs": [],
   "source": [
    "import numpy as np\n",
    "import os\n",
    "import scipy.io as sio\n",
    "import gc"
   ]
  },
  {
   "cell_type": "code",
   "execution_count": 4,
   "metadata": {},
   "outputs": [
    {
     "name": "stdout",
     "output_type": "stream",
     "text": [
      "['./eeg_feature_smooth/10_20151014.mat', './eeg_feature_smooth/10_20151021.mat', './eeg_feature_smooth/10_20151023.mat', './eeg_feature_smooth/11_20150916.mat', './eeg_feature_smooth/11_20150921.mat', './eeg_feature_smooth/11_20151011.mat', './eeg_feature_smooth/12_20150725.mat', './eeg_feature_smooth/12_20150804.mat', './eeg_feature_smooth/12_20150807.mat', './eeg_feature_smooth/13_20151115.mat', './eeg_feature_smooth/13_20151125.mat', './eeg_feature_smooth/13_20161130.mat', './eeg_feature_smooth/14_20151205.mat', './eeg_feature_smooth/14_20151208.mat', './eeg_feature_smooth/14_20151215.mat', './eeg_feature_smooth/15_20150508.mat', './eeg_feature_smooth/15_20150514.mat', './eeg_feature_smooth/15_20150527.mat', './eeg_feature_smooth/1_20160518.mat', './eeg_feature_smooth/1_20161125.mat', './eeg_feature_smooth/1_20161126.mat', './eeg_feature_smooth/2_20150915.mat', './eeg_feature_smooth/2_20150920.mat', './eeg_feature_smooth/2_20151012.mat', './eeg_feature_smooth/3_20150919.mat', './eeg_feature_smooth/3_20151018.mat', './eeg_feature_smooth/3_20151101.mat', './eeg_feature_smooth/4_20151111.mat', './eeg_feature_smooth/4_20151118.mat', './eeg_feature_smooth/4_20151123.mat', './eeg_feature_smooth/5_20160406.mat', './eeg_feature_smooth/5_20160413.mat', './eeg_feature_smooth/5_20160420.mat', './eeg_feature_smooth/6_20150507.mat', './eeg_feature_smooth/6_20150511.mat', './eeg_feature_smooth/6_20150512.mat', './eeg_feature_smooth/7_20150715.mat', './eeg_feature_smooth/7_20150717.mat', './eeg_feature_smooth/7_20150721.mat', './eeg_feature_smooth/8_20151103.mat', './eeg_feature_smooth/8_20151110.mat', './eeg_feature_smooth/8_20151117.mat', './eeg_feature_smooth/9_20151028.mat', './eeg_feature_smooth/9_20151119.mat', './eeg_feature_smooth/9_20151209.mat']\n"
     ]
    }
   ],
   "source": [
    "def all_file(user_dir):  # 获取指定路径下所有文件的全路径\n",
    "    file_list = list()\n",
    "    for root, dirs, files in os.walk(user_dir):\n",
    "        for file in files:\n",
    "            file_list.append(os.path.join(root, file))\n",
    "    return file_list\n",
    "\n",
    "\n",
    "matFile = all_file(r\"./eeg_feature_smooth\")\n",
    "\n",
    "matFile.sort()\n",
    "data = []\n",
    "for i in matFile:\n",
    "    data.append(sio.loadmat(i))  # 读取该目录下的所有.mat文件\n",
    "print(matFile)"
   ]
  },
  {
   "cell_type": "code",
   "execution_count": 5,
   "metadata": {},
   "outputs": [],
   "source": [
    "count=0\n",
    "SepMatFile = []\n",
    "temp=[]\n",
    "for i in matFile:\n",
    "    temp.append(i)\n",
    "    if(count % 3 == 2):\n",
    "        SepMatFile.append(temp)\n",
    "        temp = []\n",
    "    count+=1"
   ]
  },
  {
   "cell_type": "code",
   "execution_count": 6,
   "metadata": {},
   "outputs": [],
   "source": [
    "data = []\n",
    "for i in SepMatFile:\n",
    "    singleData = []\n",
    "    for j in i:\n",
    "        singleData.append(sio.loadmat(j))  # 读取该目录下的所有.mat文件\n",
    "    data.append(singleData)"
   ]
  },
  {
   "cell_type": "code",
   "execution_count": 14,
   "metadata": {},
   "outputs": [],
   "source": [
    "de_keys = []\n",
    "\n",
    "for i in range(24):\n",
    "    de_keys.append('de_LDS' + str(i+1))"
   ]
  },
  {
   "cell_type": "code",
   "execution_count": 15,
   "metadata": {},
   "outputs": [
    {
     "name": "stdout",
     "output_type": "stream",
     "text": [
      "['de_LDS1', 'de_LDS2', 'de_LDS3', 'de_LDS4', 'de_LDS5', 'de_LDS6', 'de_LDS7', 'de_LDS8', 'de_LDS9', 'de_LDS10', 'de_LDS11', 'de_LDS12', 'de_LDS13', 'de_LDS14', 'de_LDS15', 'de_LDS16', 'de_LDS17', 'de_LDS18', 'de_LDS19', 'de_LDS20', 'de_LDS21', 'de_LDS22', 'de_LDS23', 'de_LDS24']\n"
     ]
    }
   ],
   "source": [
    "print(de_keys)"
   ]
  },
  {
   "cell_type": "code",
   "execution_count": 16,
   "metadata": {},
   "outputs": [],
   "source": [
    "all_length = []\n",
    "all_de_exp = []\n",
    "\n",
    "for i in range(len(data)): # Subject循环\n",
    "    length = []\n",
    "    de_exp = []\n",
    "    for j in range(3): # .mat循环\n",
    "        temp_length = []\n",
    "        temp_de_exp = []    \n",
    "\n",
    "        for k in de_keys: # 实验数循环\n",
    "            temp_de_exp.append(data[i][j][k])\n",
    "            temp_length.append(data[i][j][k].shape[1])\n",
    "\n",
    "        length.append(temp_length)\n",
    "        de_exp.append(temp_de_exp)\n",
    "    all_length.append(length)\n",
    "    all_de_exp.append(de_exp)"
   ]
  },
  {
   "cell_type": "code",
   "execution_count": 17,
   "metadata": {},
   "outputs": [],
   "source": [
    "all_de_exp_arr = np.zeros([15, 3, 24, 62, max(temp_length),5])"
   ]
  },
  {
   "cell_type": "code",
   "execution_count": 19,
   "metadata": {},
   "outputs": [
    {
     "data": {
      "text/plain": [
       "24"
      ]
     },
     "execution_count": 19,
     "metadata": {},
     "output_type": "execute_result"
    }
   ],
   "source": [
    "len(all_de_exp[0][0])"
   ]
  },
  {
   "cell_type": "code",
   "execution_count": 20,
   "metadata": {},
   "outputs": [],
   "source": [
    "for i in range(15):\n",
    "    for j in range(3):\n",
    "        for k in range(24):\n",
    "            tem = all_de_exp[i][j][k]\n",
    "            all_de_exp_arr[i][j][k] = np.concatenate(\n",
    "                (tem, np.zeros([62, max(temp_length) - all_length[i][j][k], 5])), axis=1)"
   ]
  },
  {
   "cell_type": "code",
   "execution_count": 21,
   "metadata": {},
   "outputs": [
    {
     "data": {
      "text/plain": [
       "(15, 3, 24, 62, 64, 5)"
      ]
     },
     "execution_count": 21,
     "metadata": {},
     "output_type": "execute_result"
    }
   ],
   "source": [
    "all_de_exp_arr.shape"
   ]
  },
  {
   "cell_type": "code",
   "execution_count": 22,
   "metadata": {},
   "outputs": [
    {
     "name": "stdout",
     "output_type": "stream",
     "text": [
      "(15, 3, 24, 64, 62, 5)\n"
     ]
    }
   ],
   "source": [
    "all_de_exp_arr = all_de_exp_arr.swapaxes(-2, -3)\n",
    "rawShape = all_de_exp_arr.shape\n",
    "print(rawShape)"
   ]
  },
  {
   "cell_type": "code",
   "execution_count": 23,
   "metadata": {},
   "outputs": [],
   "source": [
    "de = all_de_exp_arr"
   ]
  },
  {
   "cell_type": "code",
   "execution_count": 25,
   "metadata": {},
   "outputs": [],
   "source": [
    "de_sub_list = []\n",
    "for i in range(15):\n",
    "    de_mat_list = []\n",
    "    for j in range(3):\n",
    "        de_trial_list = []\n",
    "        for k in range(24):\n",
    "            zero_index = []\n",
    "            for m in range(64):\n",
    "                if(de[i][j][k][m].sum() == 0):\n",
    "                    zero_index.append(m)\n",
    "            de_trial_list.append(np.delete(de[i][j][k], zero_index, axis=0))\n",
    "        de_mat_list.append(de_trial_list)\n",
    "    de_sub_list.append(de_mat_list)"
   ]
  },
  {
   "cell_type": "code",
   "execution_count": 27,
   "metadata": {},
   "outputs": [],
   "source": [
    "for i in range(15):\n",
    "    os.mkdir(\"trials/feature/subject_\" + str(i))\n",
    "    for j in range(3):\n",
    "        os.mkdir(\"trials/feature/subject_\" + str(i) + \"/section_\" + str(j))"
   ]
  },
  {
   "cell_type": "code",
   "execution_count": 28,
   "metadata": {},
   "outputs": [
    {
     "data": {
      "text/plain": [
       "(42, 62, 5)"
      ]
     },
     "execution_count": 28,
     "metadata": {},
     "output_type": "execute_result"
    }
   ],
   "source": [
    "de_sub_list[0][0][0].shape"
   ]
  },
  {
   "cell_type": "code",
   "execution_count": 29,
   "metadata": {},
   "outputs": [],
   "source": [
    "# 电极对应到二维矩阵中，可对应map.xlsx中的图看看\n",
    "for i in range(15):\n",
    "    for j in range(3):\n",
    "        for k in range(24):\n",
    "            nSample = de_sub_list[i][j][k].shape[0]\n",
    "            de_headMap = np.zeros([nSample, 9, 9, 5])\n",
    "            for x in range(nSample):  # 样本数循环\n",
    "                # 0-1行\n",
    "                de_headMap[x][0][3] = de_sub_list[i][j][k][x][0]\n",
    "                de_headMap[x][0][4] = de_sub_list[i][j][k][x][1]\n",
    "                de_headMap[x][0][5] = de_sub_list[i][j][k][x][2]\n",
    "                de_headMap[x][1][3] = de_sub_list[i][j][k][x][3]\n",
    "                de_headMap[x][1][5] = de_sub_list[i][j][k][x][4]\n",
    "\n",
    "                # 2-5行\n",
    "                for m in range(2, 7):\n",
    "                    for n in range(9):\n",
    "                        de_headMap[x][m][n] = de_sub_list[i][j][k][x][(m - 2) * 9 + n + 5]\n",
    "\n",
    "                # 第7行\n",
    "                for m in range(1, 8):\n",
    "                    de_headMap[x][7][m] = de_sub_list[i][j][k][x][m + 49]\n",
    "\n",
    "                # 第8行\n",
    "                for m in range(2, 7):\n",
    "                    de_headMap[x][8][m] = de_sub_list[i][j][k][x][m + 55]\n",
    "            np.save(\"trials/feature//subject_\" + str(i) + \"/section_\" + str(j) + \"/trial_temp\" + str(k), de_headMap)"
   ]
  },
  {
   "cell_type": "code",
   "execution_count": 30,
   "metadata": {},
   "outputs": [
    {
     "data": {
      "text/plain": [
       "(39, 9, 9, 5)"
      ]
     },
     "execution_count": 30,
     "metadata": {},
     "output_type": "execute_result"
    }
   ],
   "source": [
    "de_headMap.shape"
   ]
  },
  {
   "cell_type": "code",
   "execution_count": 31,
   "metadata": {},
   "outputs": [],
   "source": [
    "# 设置新的边长\n",
    "sideLen = 32"
   ]
  },
  {
   "cell_type": "code",
   "execution_count": 32,
   "metadata": {},
   "outputs": [],
   "source": [
    "from scipy import interpolate\n",
    "\n",
    "for i in range(15):\n",
    "    for j in range(3):\n",
    "        for k in range(24):\n",
    "            de_headMap = np.load(\"trials/feature/subject_\" + str(i) + \"/section_\" + str(j) + \"/trial_temp\" + str(k) + \".npy\")\n",
    "            de_timeFirst = de_headMap.swapaxes(-1, -2).swapaxes(-2, -3)\n",
    "            deMap_bigger = np.zeros([de_timeFirst.shape[0], 5, sideLen, sideLen])\n",
    "            for m in range(de_timeFirst.shape[0]):  # 样本数循环\n",
    "                for n in range(5):  # 频率循环\n",
    "                    x = np.arange(9)\n",
    "                    y = np.arange(9)\n",
    "                    z = de_timeFirst[m][n]  # 取出每一个平面\n",
    "\n",
    "                    f = interpolate.interp2d(x, y, z, kind='cubic')  # cubic为三次\n",
    "                    xnew = np.linspace(0, 8, sideLen)\n",
    "                    ynew = np.linspace(0, 8, sideLen)\n",
    "                    deMap_bigger[m][n] = f(xnew, ynew)\n",
    "            np.save(\"trials/feature/subject_\" + str(i) + \"/section_\" + str(j) + \"/trial_interpolated_\" + str(k) + \".npy\", deMap_bigger)"
   ]
  },
  {
   "cell_type": "code",
   "execution_count": 2,
   "metadata": {},
   "outputs": [],
   "source": [
    "# 标准化\n",
    "#sample * time * 32 * 32\n",
    "for i in range(15):\n",
    "    for j in range(3):\n",
    "        for k in range(24):\n",
    "            eegMap = np.load(\"trials/feature/subject_\" + str(i) + \"/section_\" + str(j) + \"/trial_interpolated_\" + str(k) + \".npy\")\n",
    "            for m in range(eegMap.shape[0]):\n",
    "                for n in range(eegMap.shape[1]):\n",
    "                    eegMap[m][n] = eegMap[m][n] - eegMap[m][n].mean()\n",
    "\n",
    "            for m in range(eegMap.shape[0]):\n",
    "                for n in range(eegMap.shape[1]):\n",
    "                    eegMap[m][n] = eegMap[m][n] / eegMap[m][n].std()\n",
    "\n",
    "            # 换轴\n",
    "            eegMap = eegMap.swapaxes(1, 2).swapaxes(2, 3)\n",
    "\n",
    "            #添加维度\n",
    "            raw_shape = list(eegMap.shape)\n",
    "            raw_shape.append(1)\n",
    "\n",
    "            eegMap = eegMap.reshape(raw_shape)\n",
    "\n",
    "            # 降低精度为单精度（float32）\n",
    "            dt = np.dtype(np.float32)\n",
    "            eegMap = np.array(eegMap, dtype=dt)\n",
    "            np.save(\"final_feature/subject_\" + str(i) + \"_section_\" + str(j) + \"_trial_\" + str(k) + \".npy\", eegMap)"
   ]
  },
  {
   "cell_type": "code",
   "execution_count": null,
   "metadata": {},
   "outputs": [],
   "source": []
  }
 ],
 "metadata": {
  "kernelspec": {
   "display_name": "Python (py36_gpu)",
   "language": "python",
   "name": "py36_gpu"
  },
  "language_info": {
   "codemirror_mode": {
    "name": "ipython",
    "version": 3
   },
   "file_extension": ".py",
   "mimetype": "text/x-python",
   "name": "python",
   "nbconvert_exporter": "python",
   "pygments_lexer": "ipython3",
   "version": "3.6.7"
  }
 },
 "nbformat": 4,
 "nbformat_minor": 2
}
