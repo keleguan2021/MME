{
 "cells": [
  {
   "cell_type": "code",
   "execution_count": 11,
   "metadata": {},
   "outputs": [],
   "source": [
    "# READ\n",
    "import numpy as np\n",
    "import os\n",
    "import scipy.io as sio\n",
    "import gc\n"
   ]
  },
  {
   "cell_type": "code",
   "execution_count": 12,
   "metadata": {},
   "outputs": [
    {
     "name": "stdout",
     "output_type": "stream",
     "text": [
      "['./eeg_raw_data/1/10_20151014.mat', './eeg_raw_data/1/11_20150916.mat', './eeg_raw_data/1/12_20150725.mat', './eeg_raw_data/1/13_20151115.mat', './eeg_raw_data/1/14_20151205.mat', './eeg_raw_data/1/15_20150508.mat', './eeg_raw_data/1/1_20160518.mat', './eeg_raw_data/1/2_20150915.mat', './eeg_raw_data/1/3_20150919.mat', './eeg_raw_data/1/4_20151111.mat', './eeg_raw_data/1/5_20160406.mat', './eeg_raw_data/1/6_20150507.mat', './eeg_raw_data/1/7_20150715.mat', './eeg_raw_data/1/8_20151103.mat', './eeg_raw_data/1/9_20151028.mat', './eeg_raw_data/2/10_20151021.mat', './eeg_raw_data/2/11_20150921.mat', './eeg_raw_data/2/12_20150804.mat', './eeg_raw_data/2/13_20151125.mat', './eeg_raw_data/2/14_20151208.mat', './eeg_raw_data/2/15_20150514.mat', './eeg_raw_data/2/1_20161125.mat', './eeg_raw_data/2/2_20150920.mat', './eeg_raw_data/2/3_20151018.mat', './eeg_raw_data/2/4_20151118.mat', './eeg_raw_data/2/5_20160413.mat', './eeg_raw_data/2/6_20150511.mat', './eeg_raw_data/2/7_20150717.mat', './eeg_raw_data/2/8_20151110.mat', './eeg_raw_data/2/9_20151119.mat', './eeg_raw_data/3/10_20151023.mat', './eeg_raw_data/3/11_20151011.mat', './eeg_raw_data/3/12_20150807.mat', './eeg_raw_data/3/13_20161130.mat', './eeg_raw_data/3/14_20151215.mat', './eeg_raw_data/3/15_20150527.mat', './eeg_raw_data/3/1_20161126.mat', './eeg_raw_data/3/2_20151012.mat', './eeg_raw_data/3/3_20151101.mat', './eeg_raw_data/3/4_20151123.mat', './eeg_raw_data/3/5_20160420.mat', './eeg_raw_data/3/6_20150512.mat', './eeg_raw_data/3/7_20150721.mat', './eeg_raw_data/3/8_20151117.mat', './eeg_raw_data/3/9_20151209.mat']\n"
     ]
    }
   ],
   "source": [
    "\n",
    "\n",
    "def all_file(user_dir):  # 获取指定路径下所有文件的全路径\n",
    "    file_list = list()\n",
    "    for root, dirs, files in os.walk(user_dir):\n",
    "        for file in files:\n",
    "            file_list.append(os.path.join(root, file))\n",
    "    return file_list\n",
    "\n",
    "\n",
    "matFile = all_file(r\"./eeg_raw_data/1\")\n",
    "for i in all_file(r\"./eeg_raw_data/2\"):\n",
    "    matFile.append(i)\n",
    "for i in all_file(r\"./eeg_raw_data/3\"):\n",
    "    matFile.append(i)\n",
    "matFile.sort()\n",
    "data = []\n",
    "for i in matFile:\n",
    "    data.append(sio.loadmat(i))  # 读取该目录下的所有.mat文件\n",
    "print(matFile)"
   ]
  },
  {
   "cell_type": "code",
   "execution_count": 13,
   "metadata": {},
   "outputs": [
    {
     "name": "stdout",
     "output_type": "stream",
     "text": [
      "45\n"
     ]
    }
   ],
   "source": [
    "print(len(data))"
   ]
  },
  {
   "cell_type": "code",
   "execution_count": 14,
   "metadata": {},
   "outputs": [
    {
     "data": {
      "text/plain": [
       "16533"
      ]
     },
     "execution_count": 14,
     "metadata": {},
     "output_type": "execute_result"
    }
   ],
   "source": [
    "# 获取每个.mat中eeg信号变量的键的列表与每次实验eeg信号的长度\n",
    "keys = []\n",
    "eegLen = []\n",
    "for i in data:\n",
    "    temKeys = []\n",
    "    temLen = []\n",
    "    flag = 0\n",
    "    for j in i:\n",
    "        temKeys.append(j)\n",
    "        if(flag >= 3):  # 第三项以后才是eeg的数据\n",
    "            temLen.append(i[j].shape[1])\n",
    "        flag += 1\n",
    "    temKeys = temKeys[3:]  # 获取每个字典第三项后所有的键\n",
    "    keys.append(temKeys)\n",
    "    eegLen.append(temLen)\n",
    "del temKeys, temLen\n",
    "gc.collect()"
   ]
  },
  {
   "cell_type": "code",
   "execution_count": 15,
   "metadata": {},
   "outputs": [],
   "source": [
    "length = 800 # 每组的长度\n",
    "\n",
    "# 在数据末尾补0，因为ndarray要求每一维的长度一定\n",
    "Len = []\n",
    "for i in eegLen:\n",
    "    Len.append(max(i))\n",
    "maxLen = max(Len)  # 找到最大的实验长度，作为ndarray容器的长度\n",
    "maxLen = (maxLen // length) * length"
   ]
  },
  {
   "cell_type": "code",
   "execution_count": 16,
   "metadata": {},
   "outputs": [
    {
     "data": {
      "text/plain": [
       "0"
      ]
     },
     "execution_count": 16,
     "metadata": {},
     "output_type": "execute_result"
    }
   ],
   "source": [
    "dt = np.dtype(np.float32)\n",
    "\n",
    "eeg = np.zeros([len(data), 24, 62, maxLen], dtype=dt)  # 容器的初始化\n",
    "for (singleKeys, singleLen, i) in zip(keys, eegLen, range(len(data))):  # 遍历.mat\n",
    "    for (key, j) in zip(singleKeys, range(24)):  # 遍历24个实验\n",
    "        for k in range(62):  # 遍历通道\n",
    "            if(maxLen - singleLen[j] <= 0):\n",
    "                eeg[i][j][k] = data[i][key][k][:maxLen]\n",
    "            else:    \n",
    "                tem = np.zeros([maxLen - singleLen[j]])  # 对每个序列都补0，变成最大长度\n",
    "                eeg[i][j][k] = np.append(data[i][key][k], tem)\n",
    "del data, tem\n",
    "gc.collect()"
   ]
  },
  {
   "cell_type": "code",
   "execution_count": 17,
   "metadata": {},
   "outputs": [
    {
     "name": "stdout",
     "output_type": "stream",
     "text": [
      "(45, 24, 62, 51200)\n"
     ]
    }
   ],
   "source": [
    "print(eeg.shape)"
   ]
  },
  {
   "cell_type": "code",
   "execution_count": 18,
   "metadata": {},
   "outputs": [],
   "source": [
    "eeg = eeg.reshape(eeg.shape[0], eeg.shape[1],  eeg.shape[2], -1, length)\n",
    "eeg = eeg.swapaxes(-2, -3)"
   ]
  },
  {
   "cell_type": "code",
   "execution_count": 19,
   "metadata": {},
   "outputs": [
    {
     "name": "stdout",
     "output_type": "stream",
     "text": [
      "(45, 24, 64, 62, 800)\n"
     ]
    }
   ],
   "source": [
    "print(eeg.shape)"
   ]
  },
  {
   "cell_type": "code",
   "execution_count": 20,
   "metadata": {},
   "outputs": [],
   "source": [
    "part1 = eeg[:15]\n",
    "part2 = eeg[15:30]\n",
    "part3 = eeg[30:45]"
   ]
  },
  {
   "cell_type": "code",
   "execution_count": 21,
   "metadata": {},
   "outputs": [],
   "source": [
    "def downSample(input, originLen, targetLen):\n",
    "    '''\n",
    "    input: 数据\n",
    "    originLen: 原长度\n",
    "    targetLen: 目标长度\n",
    "    '''\n",
    "\n",
    "    gap = originLen // (targetLen - 1)\n",
    "\n",
    "    downSamp = np.zeros([input.shape[0], input.shape[1], input.shape[2], input.shape[3],\n",
    "                         targetLen])\n",
    "    for i in range(input.shape[0]):  #  .mat\n",
    "        for j in range(input.shape[1]):  # trials\n",
    "            for k in range(input.shape[2]): # segment\n",
    "                for x in range(input.shape[3]): #channel\n",
    "                    downSamp[i][j][k][x][0] = input[i][j][k][x][0]  # 0单独处理\n",
    "                    for m in range(gap - 1, originLen + 1, gap):  # 间隔采样\n",
    "                        downSamp[i][j][k][x][m // gap + 1] = input[i][j][k][x][m]\n",
    "    return downSamp"
   ]
  },
  {
   "cell_type": "code",
   "execution_count": 22,
   "metadata": {},
   "outputs": [],
   "source": [
    "part1 = downSample(part1, originLen = 800, targetLen = 25)"
   ]
  },
  {
   "cell_type": "code",
   "execution_count": 23,
   "metadata": {},
   "outputs": [],
   "source": [
    "part2 = downSample(part2, originLen = 800, targetLen = 25)"
   ]
  },
  {
   "cell_type": "code",
   "execution_count": 24,
   "metadata": {},
   "outputs": [],
   "source": [
    "part3 = downSample(part3, originLen = 800, targetLen = 25)"
   ]
  },
  {
   "cell_type": "code",
   "execution_count": 25,
   "metadata": {},
   "outputs": [],
   "source": [
    "eeg = np.concatenate((part1, part2, part3), axis=0)"
   ]
  },
  {
   "cell_type": "code",
   "execution_count": 26,
   "metadata": {},
   "outputs": [
    {
     "name": "stdout",
     "output_type": "stream",
     "text": [
      "(45, 24, 64, 62, 25)\n"
     ]
    }
   ],
   "source": [
    "print(eeg.shape)"
   ]
  },
  {
   "cell_type": "code",
   "execution_count": 27,
   "metadata": {},
   "outputs": [],
   "source": [
    "def delete_zero(eeg):\n",
    "    zeroDataIndex = []\n",
    "    for i in range(eeg.shape[0]):\n",
    "        if(eeg[i][0][-1] == 0 and eeg[i][0][-2] == 0):  # 实验中所有数据的和为0的实验\n",
    "            zeroDataIndex.append(i)  # 记录下索引\n",
    "    eeg = np.delete(eeg, zeroDataIndex, axis=0)  # 删除为0的数据\n",
    "    return eeg"
   ]
  },
  {
   "cell_type": "code",
   "execution_count": 28,
   "metadata": {},
   "outputs": [],
   "source": [
    "for i in range(45):\n",
    "    for j in range(24):\n",
    "        temp = delete_zero(eeg[i][j])\n",
    "        np.save(\"trials/EEG_temporal_\" + str(i) + \"_\" + str(j), temp)"
   ]
  },
  {
   "cell_type": "code",
   "execution_count": 29,
   "metadata": {},
   "outputs": [],
   "source": [
    "#eegShape = nSample * 62(channel) * 100(timeLen)\n",
    "#MapShape = nSample * 100(freq) * (9*9)\n",
    "nSample = eeg.shape[0]\n",
    "timeRange = eeg.shape[2]\n",
    "time_headMap = np.zeros([nSample, 9, 9, timeRange])"
   ]
  },
  {
   "cell_type": "code",
   "execution_count": 30,
   "metadata": {},
   "outputs": [],
   "source": [
    "eeg_sub_list = []\n",
    "for i in range(45):\n",
    "    temp_list = []\n",
    "    for j in range(24):\n",
    "        temp = np.load(\"trials/EEG_temporal_\" + str(i) + \"_\" + str(j) + '.npy')\n",
    "        temp_list.append(temp)\n",
    "    eeg_sub_list.append([i%15, temp_list])"
   ]
  },
  {
   "cell_type": "code",
   "execution_count": 31,
   "metadata": {},
   "outputs": [],
   "source": [
    "eeg_sub_list = sorted(eeg_sub_list,key=(lambda x:x[0]))"
   ]
  },
  {
   "cell_type": "code",
   "execution_count": 32,
   "metadata": {},
   "outputs": [],
   "source": [
    "eeg_list = eeg_sub_list"
   ]
  },
  {
   "cell_type": "code",
   "execution_count": 33,
   "metadata": {},
   "outputs": [],
   "source": [
    "for i in range(45):\n",
    "    eeg_list[i] = eeg_list[i][1]"
   ]
  },
  {
   "cell_type": "code",
   "execution_count": 34,
   "metadata": {},
   "outputs": [],
   "source": [
    "eeg_sub_list = []\n",
    "for i in range(15):\n",
    "    eeg_sub_list.append(eeg_list[3*i:3*i + 3])"
   ]
  },
  {
   "cell_type": "code",
   "execution_count": 35,
   "metadata": {},
   "outputs": [
    {
     "data": {
      "text/plain": [
       "15"
      ]
     },
     "execution_count": 35,
     "metadata": {},
     "output_type": "execute_result"
    }
   ],
   "source": [
    "len(eeg_sub_list)"
   ]
  },
  {
   "cell_type": "code",
   "execution_count": 36,
   "metadata": {},
   "outputs": [],
   "source": [
    "timeLength = 25\n",
    "\n",
    "# 电极对应到二维矩阵中，可对应map.xlsx中的图看看\n",
    "for i in range(15):\n",
    "    for j in range(3):\n",
    "        for k in range(24):\n",
    "            nSample = eeg_sub_list[i][j][k].shape[0]\n",
    "            eeg_headMap = np.zeros([nSample, 9, 9, timeLength])\n",
    "            for x in range(nSample):  # 样本数循环\n",
    "                # 0-1行\n",
    "                eeg_headMap[x][0][3] = eeg_sub_list[i][j][k][x][0]\n",
    "                eeg_headMap[x][0][4] = eeg_sub_list[i][j][k][x][1]\n",
    "                eeg_headMap[x][0][5] = eeg_sub_list[i][j][k][x][2]\n",
    "                eeg_headMap[x][1][3] = eeg_sub_list[i][j][k][x][3]\n",
    "                eeg_headMap[x][1][5] = eeg_sub_list[i][j][k][x][4]\n",
    "\n",
    "                # 2-5行\n",
    "                for m in range(2, 7):\n",
    "                    for n in range(9):\n",
    "                        eeg_headMap[x][m][n] = eeg_sub_list[i][j][k][x][(m - 2) * 9 + n + 5]\n",
    "\n",
    "                # 第7行\n",
    "                for m in range(1, 8):\n",
    "                    eeg_headMap[x][7][m] = eeg_sub_list[i][j][k][x][m + 49]\n",
    "\n",
    "                # 第8行\n",
    "                for m in range(2, 7):\n",
    "                    eeg_headMap[x][8][m] = eeg_sub_list[i][j][k][x][m + 55]\n",
    "            np.save(\"trials/temporal_subject_\" + str(i) + \"_section_\" + str(j) + \"_trial_temp\" + str(k), eeg_headMap)"
   ]
  },
  {
   "cell_type": "code",
   "execution_count": 37,
   "metadata": {},
   "outputs": [
    {
     "data": {
      "text/plain": [
       "<Figure size 480x480 with 2 Axes>"
      ]
     },
     "metadata": {},
     "output_type": "display_data"
    }
   ],
   "source": [
    "import matplotlib\n",
    "import matplotlib.pyplot as plt\n",
    "import random\n",
    "\n",
    "freqFirst = eeg_headMap.swapaxes(-1, -2).swapaxes(-2, -3)\n",
    "\n",
    "randTr = random.randint(1, eeg_headMap.shape[1])\n",
    "randTime = random.randint(0, 24)\n",
    "\n",
    "arr = freqFirst[2][0]\n",
    "\n",
    "plt.matshow(arr, cmap='hot_r')\n",
    "plt.colorbar()\n",
    "plt.show()\n",
    "\n",
    "del freqFirst"
   ]
  },
  {
   "cell_type": "code",
   "execution_count": 38,
   "metadata": {},
   "outputs": [],
   "source": [
    "# 设置新的边长\n",
    "sideLen = 32"
   ]
  },
  {
   "cell_type": "code",
   "execution_count": 39,
   "metadata": {},
   "outputs": [
    {
     "data": {
      "text/plain": [
       "2309"
      ]
     },
     "execution_count": 39,
     "metadata": {},
     "output_type": "execute_result"
    }
   ],
   "source": [
    "del eeg_headMap\n",
    "gc.collect()"
   ]
  },
  {
   "cell_type": "code",
   "execution_count": 40,
   "metadata": {},
   "outputs": [],
   "source": [
    "from scipy import interpolate\n",
    "\n",
    "for i in range(15):\n",
    "    for j in range(3):\n",
    "        for k in range(24):\n",
    "            eeg_headMap = np.load(\"trials/temporal_subject_\" + str(i) + \"_section_\" + str(j) + \"_trial_temp\" + str(k) + \".npy\")\n",
    "            eeg_timeFirst = eeg_headMap.swapaxes(-1, -2).swapaxes(-2, -3)\n",
    "            eegMap_bigger = np.zeros([eeg_timeFirst.shape[0], 25, sideLen, sideLen])\n",
    "            for m in range(eeg_timeFirst.shape[0]):  # 样本数循环\n",
    "                for n in range(25):  # 频率循环\n",
    "                    x = np.arange(9)\n",
    "                    y = np.arange(9)\n",
    "                    z = eeg_timeFirst[m][n]  # 取出每一个平面\n",
    "\n",
    "                    f = interpolate.interp2d(x, y, z, kind='cubic')  # cubic为三次\n",
    "                    xnew = np.linspace(0, 8, sideLen)\n",
    "                    ynew = np.linspace(0, 8, sideLen)\n",
    "                    eegMap_bigger[m][n] = f(xnew, ynew)\n",
    "            np.save(\"trials/temporal_subject_\" + str(i) + \"_section_\" + str(j) + \"_trial_interpolated_\" + str(k) + \".npy\", eegMap_bigger)"
   ]
  },
  {
   "cell_type": "code",
   "execution_count": null,
   "metadata": {},
   "outputs": [],
   "source": [
    "os.mkdir(\"final_raw\")"
   ]
  },
  {
   "cell_type": "code",
   "execution_count": 41,
   "metadata": {},
   "outputs": [],
   "source": [
    "# 标准化\n",
    "#sample * time * 32 * 32\n",
    "for i in range(15):\n",
    "    for j in range(3):\n",
    "        for k in range(24):\n",
    "            eegMap = np.load(\"trials/temporal_subject_\" + str(i) + \"_section_\" + str(j) + \"_trial_interpolated_\" + str(k) + \".npy\")\n",
    "            for m in range(eegMap.shape[0]):\n",
    "                for n in range(eegMap.shape[1]):\n",
    "                    eegMap[m][n] = eegMap[m][n] - eegMap[m][n].mean()\n",
    "                        \n",
    "            for m in range(eegMap.shape[0]):\n",
    "                for n in range(eegMap.shape[1]):\n",
    "                    eegMap[m][n] = eegMap[m][n] / eegMap[m][n].std()\n",
    "\n",
    "            # 换轴\n",
    "            eegMap = eegMap.swapaxes(1, 2).swapaxes(2, 3)\n",
    "    \n",
    "            #添加维度\n",
    "            raw_shape = list(eegMap.shape)\n",
    "            raw_shape.append(1)\n",
    "\n",
    "            eegMap = eegMap.reshape(raw_shape)\n",
    "    \n",
    "            # 降低精度为单精度（float32）\n",
    "            dt = np.dtype(np.float32)\n",
    "            eegMap = np.array(eegMap, dtype=dt)\n",
    "            np.save(\"final_raw/subject_\" + str(i) + \"_section_\" + str(j) + \"_trial_\" + str(k) + \".npy\", eegMap)"
   ]
  },
  {
   "cell_type": "code",
   "execution_count": null,
   "metadata": {},
   "outputs": [],
   "source": []
  }
 ],
 "metadata": {
  "kernelspec": {
   "display_name": "Python (py36)",
   "language": "python",
   "name": "py36"
  },
  "language_info": {
   "codemirror_mode": {
    "name": "ipython",
    "version": 3
   },
   "file_extension": ".py",
   "mimetype": "text/x-python",
   "name": "python",
   "nbconvert_exporter": "python",
   "pygments_lexer": "ipython3",
   "version": "3.6.7"
  }
 },
 "nbformat": 4,
 "nbformat_minor": 2
}
