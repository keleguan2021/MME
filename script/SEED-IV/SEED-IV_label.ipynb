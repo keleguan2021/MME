{
 "cells": [
  {
   "cell_type": "code",
   "execution_count": 13,
   "metadata": {},
   "outputs": [],
   "source": [
    "import numpy as np"
   ]
  },
  {
   "cell_type": "code",
   "execution_count": 14,
   "metadata": {},
   "outputs": [],
   "source": [
    "all_label = [[1, 2, 3, 0, 2, 0, 0, 1, 0, 1, 2, 1, 1, 1, 2, 3, 2, 2, 3, 3, 0, 3, 0, 3], [2, 1, 3, 0, 0, 2, 0, 2, 3, 3, 2, 3, 2, 0, 1, 1, 2, 1, 0, 3, 0, 1, 3, 1], [1, 2, 2, 1, 3, 3, 3, 1, 1, 2, 1, 0, 2, 3, 3, 0, 2, 3, 0, 0, 2, 0, 1, 0]]"
   ]
  },
  {
   "cell_type": "code",
   "execution_count": 16,
   "metadata": {},
   "outputs": [
    {
     "name": "stdout",
     "output_type": "stream",
     "text": [
      "(2505, 32, 32, 5, 1)\n",
      "(2505, 32, 32, 5, 1)\n",
      "(2505, 32, 32, 5, 1)\n",
      "(2505, 32, 32, 5, 1)\n",
      "(2505, 32, 32, 5, 1)\n",
      "(2505, 32, 32, 5, 1)\n",
      "(2505, 32, 32, 5, 1)\n",
      "(2505, 32, 32, 5, 1)\n",
      "(2505, 32, 32, 5, 1)\n",
      "(2505, 32, 32, 5, 1)\n",
      "(2505, 32, 32, 5, 1)\n",
      "(2505, 32, 32, 5, 1)\n",
      "(2505, 32, 32, 5, 1)\n",
      "(2505, 32, 32, 5, 1)\n",
      "(2505, 32, 32, 5, 1)\n"
     ]
    }
   ],
   "source": [
    "for i in range(15):\n",
    "    sub_arr = None\n",
    "    sub_label = None\n",
    "    for j in range(3):\n",
    "        for k in range(24):\n",
    "            temp = np.load(\"final_feature/subject_\" + str(i) + \"_section_\" + str(j) + \"_trial_\" + str(k) + \".npy\")\n",
    "            temp_label = np.array([all_label[j][k] for _ in range(temp.shape[0])])\n",
    "            if(j == 0 and k == 0):\n",
    "                sub_arr = temp\n",
    "                sub_label = temp_label\n",
    "            else:\n",
    "                sub_arr = np.concatenate((sub_arr, temp), axis=0)\n",
    "                sub_label = np.concatenate((sub_label, temp_label), axis=0)\n",
    "    print(sub_arr.shape)\n",
    "    np.save(\"final_features_sub/subject_\" + str(i),sub_arr)\n",
    "    np.save(\"final_label_sub/subject_\" + str(i),sub_label)"
   ]
  },
  {
   "cell_type": "code",
   "execution_count": 17,
   "metadata": {},
   "outputs": [
    {
     "name": "stdout",
     "output_type": "stream",
     "text": [
      "(2505, 32, 32, 25, 1)\n",
      "(2505, 32, 32, 25, 1)\n",
      "(2505, 32, 32, 25, 1)\n",
      "(2505, 32, 32, 25, 1)\n",
      "(2505, 32, 32, 25, 1)\n",
      "(2505, 32, 32, 25, 1)\n",
      "(2505, 32, 32, 25, 1)\n",
      "(2505, 32, 32, 25, 1)\n",
      "(2505, 32, 32, 25, 1)\n",
      "(2505, 32, 32, 25, 1)\n",
      "(2505, 32, 32, 25, 1)\n",
      "(2505, 32, 32, 25, 1)\n",
      "(2505, 32, 32, 25, 1)\n",
      "(2505, 32, 32, 25, 1)\n",
      "(2505, 32, 32, 25, 1)\n"
     ]
    }
   ],
   "source": [
    "for i in range(15):\n",
    "    sub_arr = None\n",
    "    for j in range(3):\n",
    "        for k in range(24):\n",
    "            temp = np.load(\"final_raw/subject_\" + str(i) + \"_section_\" + str(j) + \"_trial_\" + str(k) + \".npy\")\n",
    "            if(j == 0 and k == 0):\n",
    "                sub_arr = temp\n",
    "            else:\n",
    "                sub_arr = np.concatenate((sub_arr, temp), axis=0)\n",
    "    print(sub_arr.shape)\n",
    "    np.save(\"final_raw_sub/subject_\" + str(i),sub_arr)"
   ]
  },
  {
   "cell_type": "code",
   "execution_count": 8,
   "metadata": {},
   "outputs": [],
   "source": [
    "i = j = k =1"
   ]
  },
  {
   "cell_type": "code",
   "execution_count": 13,
   "metadata": {},
   "outputs": [],
   "source": [
    "tempInput = np.load(\"final_raw/subject_\" + str(i) + \"_section_\" + str(j) + \"_trial_\" + str(k) + \".npy\")"
   ]
  },
  {
   "cell_type": "code",
   "execution_count": 14,
   "metadata": {},
   "outputs": [],
   "source": [
    "specInput = np.load(\"final_feature/subject_\" + str(i) + \"_section_\" + str(j) + \"_trial_\" + str(k) + \".npy\")"
   ]
  },
  {
   "cell_type": "code",
   "execution_count": 15,
   "metadata": {},
   "outputs": [
    {
     "data": {
      "text/plain": [
       "(23, 32, 32, 25, 1)"
      ]
     },
     "execution_count": 15,
     "metadata": {},
     "output_type": "execute_result"
    }
   ],
   "source": [
    "tempInput.shape"
   ]
  },
  {
   "cell_type": "code",
   "execution_count": 16,
   "metadata": {},
   "outputs": [
    {
     "data": {
      "text/plain": [
       "(23, 32, 32, 5, 1)"
      ]
     },
     "execution_count": 16,
     "metadata": {},
     "output_type": "execute_result"
    }
   ],
   "source": [
    "specInput.shape"
   ]
  },
  {
   "cell_type": "code",
   "execution_count": 18,
   "metadata": {},
   "outputs": [],
   "source": [
    "label = np.load(\"final_label_sub/subject_\" + str(i) + \".npy\")"
   ]
  }
 ],
 "metadata": {
  "kernelspec": {
   "display_name": "Python (py36_gpu)",
   "language": "python",
   "name": "py36_gpu"
  },
  "language_info": {
   "codemirror_mode": {
    "name": "ipython",
    "version": 3
   },
   "file_extension": ".py",
   "mimetype": "text/x-python",
   "name": "python",
   "nbconvert_exporter": "python",
   "pygments_lexer": "ipython3",
   "version": "3.6.7"
  }
 },
 "nbformat": 4,
 "nbformat_minor": 2
}
