{
 "cells": [
  {
   "cell_type": "code",
   "execution_count": 1,
   "metadata": {
    "ExecuteTime": {
     "end_time": "2020-10-15T05:58:47.058113Z",
     "start_time": "2020-10-15T05:58:46.831579Z"
    }
   },
   "outputs": [],
   "source": [
    "import numpy as np\n",
    "import os\n",
    "import scipy.io as sio\n",
    "import gc"
   ]
  },
  {
   "cell_type": "code",
   "execution_count": 5,
   "metadata": {
    "ExecuteTime": {
     "end_time": "2020-10-15T05:59:15.581736Z",
     "start_time": "2020-10-15T05:59:15.559790Z"
    }
   },
   "outputs": [],
   "source": [
    "matFile=[]\n",
    "matFile.append(r'./Preprocessed_EEG/Preprocessed_EEG/1_20131030.mat')\n",
    "matFile.append(r'./Preprocessed_EEG/Preprocessed_EEG/1_20131027.mat')\n",
    "matFile.append(r'./Preprocessed_EEG/Preprocessed_EEG/1_20131107.mat')\n",
    "matFile.append(r'./Preprocessed_EEG/Preprocessed_EEG/2_20140404.mat')\n",
    "matFile.append(r'./Preprocessed_EEG/Preprocessed_EEG/2_20140413.mat')\n",
    "matFile.append(r'./Preprocessed_EEG/Preprocessed_EEG/2_20140419.mat')\n",
    "matFile.append(r'./Preprocessed_EEG/Preprocessed_EEG/3_20140603.mat')\n",
    "matFile.append(r'./Preprocessed_EEG/Preprocessed_EEG/3_20140611.mat')\n",
    "matFile.append(r'./Preprocessed_EEG/Preprocessed_EEG/3_20140629.mat')\n",
    "matFile.append(r'./Preprocessed_EEG/Preprocessed_EEG/4_20140621.mat')\n",
    "matFile.append(r'./Preprocessed_EEG/Preprocessed_EEG/4_20140702.mat')\n",
    "matFile.append(r'./Preprocessed_EEG/Preprocessed_EEG/4_20140705.mat')\n",
    "matFile.append(r'./Preprocessed_EEG/Preprocessed_EEG/5_20140411.mat')\n",
    "matFile.append(r'./Preprocessed_EEG/Preprocessed_EEG/5_20140418.mat')\n",
    "matFile.append(r'./Preprocessed_EEG/Preprocessed_EEG/5_20140506.mat')\n",
    "matFile.append(r'./Preprocessed_EEG/Preprocessed_EEG/6_20130712.mat')\n",
    "matFile.append(r'./Preprocessed_EEG/Preprocessed_EEG/6_20131016.mat')\n",
    "matFile.append(r'./Preprocessed_EEG/Preprocessed_EEG/6_20131113.mat')\n",
    "matFile.append(r'./Preprocessed_EEG/Preprocessed_EEG/7_20131027.mat')\n",
    "matFile.append(r'./Preprocessed_EEG/Preprocessed_EEG/7_20131030.mat')\n",
    "matFile.append(r'./Preprocessed_EEG/Preprocessed_EEG/7_20131106.mat')\n",
    "matFile.append(r'./Preprocessed_EEG/Preprocessed_EEG/8_20140511.mat')\n",
    "matFile.append(r'./Preprocessed_EEG/Preprocessed_EEG/8_20140514.mat')\n",
    "matFile.append(r'./Preprocessed_EEG/Preprocessed_EEG/8_20140521.mat')\n",
    "matFile.append(r'./Preprocessed_EEG/Preprocessed_EEG/9_20140620.mat')\n",
    "matFile.append(r'./Preprocessed_EEG/Preprocessed_EEG/9_20140627.mat')\n",
    "matFile.append(r'./Preprocessed_EEG/Preprocessed_EEG/9_20140704.mat')\n",
    "matFile.append(r'./Preprocessed_EEG/Preprocessed_EEG/10_20131130.mat')\n",
    "matFile.append(r'./Preprocessed_EEG/Preprocessed_EEG/10_20131204.mat')\n",
    "matFile.append(r'./Preprocessed_EEG/Preprocessed_EEG/10_20131211.mat')\n",
    "matFile.append(r'./Preprocessed_EEG/Preprocessed_EEG/11_20140618.mat')\n",
    "matFile.append(r'./Preprocessed_EEG/Preprocessed_EEG/11_20140625.mat')\n",
    "matFile.append(r'./Preprocessed_EEG/Preprocessed_EEG/11_20140630.mat')\n",
    "matFile.append(r'./Preprocessed_EEG/Preprocessed_EEG/12_20131127.mat')\n",
    "matFile.append(r'./Preprocessed_EEG/Preprocessed_EEG/12_20131201.mat')\n",
    "matFile.append(r'./Preprocessed_EEG/Preprocessed_EEG/12_20131207.mat')\n",
    "matFile.append(r'./Preprocessed_EEG/Preprocessed_EEG/13_20140527.mat')\n",
    "matFile.append(r'./Preprocessed_EEG/Preprocessed_EEG/13_20140603.mat')\n",
    "matFile.append(r'./Preprocessed_EEG/Preprocessed_EEG/13_20140610.mat')\n",
    "matFile.append(r'./Preprocessed_EEG/Preprocessed_EEG/14_20140601.mat')\n",
    "matFile.append(r'./Preprocessed_EEG/Preprocessed_EEG/14_20140615.mat')\n",
    "matFile.append(r'./Preprocessed_EEG/Preprocessed_EEG/14_20140627.mat')\n",
    "matFile.append(r'./Preprocessed_EEG/Preprocessed_EEG/15_20130709.mat')\n",
    "matFile.append(r'./Preprocessed_EEG/Preprocessed_EEG/15_20131016.mat')\n",
    "matFile.append(r'./Preprocessed_EEG/Preprocessed_EEG/15_20131105.mat')"
   ]
  },
  {
   "cell_type": "code",
   "execution_count": 6,
   "metadata": {
    "ExecuteTime": {
     "end_time": "2020-10-15T05:59:15.949311Z",
     "start_time": "2020-10-15T05:59:15.939404Z"
    }
   },
   "outputs": [],
   "source": [
    "count=0\n",
    "SepMatFile = []\n",
    "temp=[]\n",
    "for i in matFile:\n",
    "    temp.append(i)\n",
    "    if(count % 3 == 2):\n",
    "        SepMatFile.append(temp)\n",
    "        temp = []\n",
    "    count+=1"
   ]
  },
  {
   "cell_type": "code",
   "execution_count": 8,
   "metadata": {
    "ExecuteTime": {
     "end_time": "2020-10-15T06:01:06.458351Z",
     "start_time": "2020-10-15T05:59:24.539327Z"
    },
    "scrolled": true
   },
   "outputs": [],
   "source": [
    "data = []\n",
    "for i in SepMatFile:\n",
    "    singleData = []\n",
    "    for j in i:\n",
    "        singleData.append(sio.loadmat(j))  # 读取该目录下的所有.mat文件\n",
    "    data.append(singleData)"
   ]
  },
  {
   "cell_type": "code",
   "execution_count": 6,
   "metadata": {
    "ExecuteTime": {
     "end_time": "2020-03-26T03:13:24.380976Z",
     "start_time": "2020-03-26T03:13:24.374528Z"
    }
   },
   "outputs": [],
   "source": [
    "all_keys = []\n",
    "all_eegLen = []\n",
    "for i in range(15):\n",
    "    # 获取每个.mat中eeg信号变量的键的列表与每次实验eeg信号的长度\n",
    "    keys = []\n",
    "    eegLen = []\n",
    "    for j in data[i]:\n",
    "        temKeys = []\n",
    "        temLen = []\n",
    "        flag = 0\n",
    "        for k in j:\n",
    "            temKeys.append(k)\n",
    "            if(flag >= 3):  # 第三项以后才是eeg的数据\n",
    "                temLen.append(j[k].shape[1])\n",
    "            flag += 1\n",
    "        temKeys = temKeys[3:]  # 获取每个字典第三项后所有的键\n",
    "        keys.append(temKeys)\n",
    "        eegLen.append(temLen)\n",
    "    all_keys.append(keys)\n",
    "    all_eegLen.append(eegLen)"
   ]
  },
  {
   "cell_type": "code",
   "execution_count": 8,
   "metadata": {
    "ExecuteTime": {
     "end_time": "2020-03-26T03:13:25.829783Z",
     "start_time": "2020-03-26T03:13:25.825319Z"
    }
   },
   "outputs": [],
   "source": [
    "length = 200 # 每组的长度\n",
    "nbExperiment = 15\n",
    "\n",
    "adjLen = [x - 1 for x in eegLen[0]]\n",
    "# 在数据末尾补0，因为ndarray要求每一维的长度一定\n",
    "Len = []\n",
    "for i in eegLen:\n",
    "    Len.append(max(i))\n",
    "maxLeng = max(Len)  # 找到最大的实验长度，作为ndarray容器的长度\n",
    "maxLen = (maxLeng // length + 1) * length"
   ]
  },
  {
   "cell_type": "code",
   "execution_count": 10,
   "metadata": {
    "ExecuteTime": {
     "end_time": "2020-03-26T03:15:53.096013Z",
     "start_time": "2020-03-26T03:13:27.269172Z"
    }
   },
   "outputs": [],
   "source": [
    "eeg = np.zeros([15, 3, 15, 62, maxLen])  # 容器的初始化\n",
    "for m in range(15):\n",
    "    for (singleKeys, singleLen, i) in zip(all_keys[m], all_eegLen[m], range(3)):  # 遍历.mat\n",
    "        for (key, j) in zip(singleKeys, range(nbExperiment)):  # 遍历所有实验\n",
    "            for k in range(62):  # 遍历通道\n",
    "                tem = np.zeros([maxLen - adjLen[j]])  # 对每个序列都补0，变成最大长度\n",
    "                eeg[m][i][j][k] = np.append(data[m][i][key][k][:-1], tem)\n",
    "\n",
    "del data\n",
    "gc.collect()"
   ]
  },
  {
   "cell_type": "code",
   "execution_count": 12,
   "metadata": {
    "ExecuteTime": {
     "end_time": "2020-03-26T03:15:56.600102Z",
     "start_time": "2020-03-26T03:15:56.594677Z"
    }
   },
   "outputs": [
    {
     "name": "stdout",
     "output_type": "stream",
     "text": [
      "(15, 3, 15, 62, 53200)\n",
      "(15, 3, 15, 266, 62, 200)\n"
     ]
    }
   ],
   "source": [
    "print(eeg.shape)\n",
    "eeg = eeg.reshape(eeg.shape[0], eeg.shape[1],  eeg.shape[2], eeg.shape[3], -1, length)\n",
    "eeg = eeg.swapaxes(-2, -3)\n",
    "print(eeg.shape)"
   ]
  },
  {
   "cell_type": "code",
   "execution_count": 13,
   "metadata": {
    "ExecuteTime": {
     "end_time": "2020-03-26T03:16:54.481127Z",
     "start_time": "2020-03-26T03:16:51.407715Z"
    }
   },
   "outputs": [
    {
     "data": {
      "image/png": "[encoded data removed]",
      "text/plain": [
       "<Figure size 432x288 with 1 Axes>"
      ]
     },
     "metadata": {
      "needs_background": "light"
     },
     "output_type": "display_data"
    }
   ],
   "source": [
    "# 选择两个通道查看波形\n",
    "import matplotlib\n",
    "import matplotlib.pyplot as plt\n",
    "import random\n",
    "\n",
    "%matplotlib inline\n",
    "ranSub = random.randint(0, 3)\n",
    "ranTrial = random.randint(0, 15)\n",
    "ranPart = random.randint(0, 10)\n",
    "ranChannel = random.randint(0, 61)\n",
    "\n",
    "Volts_Channel = eeg[2][ranSub][ranTrial][ranPart][ranChannel]\n",
    "time = range(0, length)\n",
    "\n",
    "plt.plot(time, Volts_Channel, 'b', label='Channel %d' % (ranChannel + 1))\n",
    "plt.title('EEG-Fig  Subject-%d Trial-%d Part-%d' %\n",
    "          (ranSub + 1, ranTrial + 1, ranPart + 1))\n",
    "plt.xlabel('Time(ms)')\n",
    "plt.ylabel('Voltage(V)')\n",
    "plt.legend()\n",
    "plt.show()"
   ]
  },
  {
   "cell_type": "code",
   "execution_count": 57,
   "metadata": {
    "ExecuteTime": {
     "end_time": "2020-03-23T10:26:53.705664Z",
     "start_time": "2020-03-23T10:25:45.039693Z"
    }
   },
   "outputs": [],
   "source": [
    "np.save('delete!' ,eeg_noZero)"
   ]
  },
  {
   "cell_type": "code",
   "execution_count": 1,
   "metadata": {
    "ExecuteTime": {
     "end_time": "2020-03-23T10:29:21.945173Z",
     "start_time": "2020-03-23T10:28:50.593776Z"
    }
   },
   "outputs": [],
   "source": [
    "eeg = np.load('delete!.npy')"
   ]
  },
  {
   "cell_type": "code",
   "execution_count": 17,
   "metadata": {
    "ExecuteTime": {
     "end_time": "2020-03-26T03:29:54.960715Z",
     "start_time": "2020-03-26T03:29:54.953275Z"
    }
   },
   "outputs": [],
   "source": [
    "def downSample(data, originLen, targetLen):\n",
    "    '''\n",
    "    input: 数据\n",
    "    originLen: 原长度\n",
    "    targetLen: 目标长度\n",
    "    '''\n",
    "\n",
    "    gap = originLen // (targetLen - 1)\n",
    "\n",
    "    downSamp = np.zeros([data.shape[0], data.shape[1], data.shape[2], data.shape[3], data.shape[4], \n",
    "                         targetLen])\n",
    "    for m in range(data.shape[0]):\n",
    "        for n in range(data.shape[1]):\n",
    "            for x in range(data.shape[2]):\n",
    "                for i in range(data.shape[3]):  # sample\n",
    "                    for j in range(data.shape[4]):  # channel\n",
    "                        downSamp[m][n][x][i][j][0] = data[m][n][x][i][j][0]  # 0单独处理\n",
    "                        for k in range(gap - 1, data.shape[-1], gap):  # 间隔采样\n",
    "                            downSamp[m][n][x][i][j][k // gap] = data[m][n][x][i][j][k]\n",
    "    return downSamp"
   ]
  },
  {
   "cell_type": "code",
   "execution_count": 18,
   "metadata": {
    "ExecuteTime": {
     "end_time": "2020-03-26T03:38:29.839360Z",
     "start_time": "2020-03-26T03:29:56.600111Z"
    }
   },
   "outputs": [],
   "source": [
    "eeg = downSample(eeg, originLen = eeg.shape[-1], targetLen = 25)"
   ]
  },
  {
   "cell_type": "code",
   "execution_count": 19,
   "metadata": {
    "ExecuteTime": {
     "end_time": "2020-03-26T03:42:08.963227Z",
     "start_time": "2020-03-26T03:42:08.957758Z"
    }
   },
   "outputs": [
    {
     "data": {
      "text/plain": [
       "(15, 3, 15, 266, 62, 25)"
      ]
     },
     "execution_count": 19,
     "metadata": {},
     "output_type": "execute_result"
    }
   ],
   "source": [
    "eeg.shape"
   ]
  },
  {
   "cell_type": "code",
   "execution_count": 20,
   "metadata": {
    "ExecuteTime": {
     "end_time": "2020-03-26T03:42:28.204928Z",
     "start_time": "2020-03-26T03:42:12.950121Z"
    }
   },
   "outputs": [],
   "source": [
    "np.save('./trials/SEED_time_series_25_single_trail.npy',eeg)"
   ]
  },
  {
   "cell_type": "code",
   "execution_count": 3,
   "metadata": {
    "ExecuteTime": {
     "end_time": "2020-02-23T09:57:30.342563Z",
     "start_time": "2020-02-23T09:57:28.868515Z"
    }
   },
   "outputs": [
    {
     "data": {
      "text/plain": [
       "(152730, 62, 50)"
      ]
     },
     "execution_count": 3,
     "metadata": {},
     "output_type": "execute_result"
    }
   ],
   "source": [
    "eeg = np.load('temp.npy')\n",
    "eeg.shape"
   ]
  },
  {
   "cell_type": "code",
   "execution_count": 4,
   "metadata": {
    "ExecuteTime": {
     "end_time": "2020-02-23T09:57:31.193155Z",
     "start_time": "2020-02-23T09:57:31.184188Z"
    }
   },
   "outputs": [],
   "source": [
    "#inputShape = nSample * 62(channel) * 100(timeLen)\n",
    "#MapShape = nSample * 100(freq) * (9*9)\n",
    "nSample = eeg.shape[0]\n",
    "timeRange = eeg.shape[2]\n",
    "time_headMap = np.zeros([nSample, 9, 9, timeRange])"
   ]
  },
  {
   "cell_type": "code",
   "execution_count": 5,
   "metadata": {
    "ExecuteTime": {
     "end_time": "2020-02-23T09:57:46.104979Z",
     "start_time": "2020-02-23T09:57:33.205775Z"
    }
   },
   "outputs": [],
   "source": [
    "# 电极对应到二维矩阵中，可对应map.xlsx中的图看看\n",
    "for i in range(nSample):  # 样本数循环\n",
    "    # 0-1行\n",
    "    time_headMap[i][0][3] = eeg[i][0]\n",
    "    time_headMap[i][0][4] = eeg[i][1]\n",
    "    time_headMap[i][0][5] = eeg[i][2]\n",
    "    time_headMap[i][1][3] = eeg[i][3]\n",
    "    time_headMap[i][1][5] = eeg[i][4]\n",
    "\n",
    "    # 2-5行\n",
    "    for m in range(2, 7):\n",
    "        for k in range(9):\n",
    "            time_headMap[i][m][k] = eeg[i][(m - 2) * 9 + k + 5]\n",
    "\n",
    "    # 第7行\n",
    "    for m in range(1, 8):\n",
    "        time_headMap[i][7][m] = eeg[i][m + 49]\n",
    "\n",
    "    # 第8行\n",
    "    for m in range(2, 7):\n",
    "        time_headMap[i][8][m] = eeg[i][m + 55]"
   ]
  },
  {
   "cell_type": "code",
   "execution_count": 6,
   "metadata": {
    "ExecuteTime": {
     "end_time": "2020-02-23T09:58:16.254513Z",
     "start_time": "2020-02-23T09:58:16.248529Z"
    }
   },
   "outputs": [
    {
     "data": {
      "text/plain": [
       "(152730, 9, 9, 50)"
      ]
     },
     "execution_count": 6,
     "metadata": {},
     "output_type": "execute_result"
    }
   ],
   "source": [
    "time_headMap.shape"
   ]
  },
  {
   "cell_type": "code",
   "execution_count": 7,
   "metadata": {
    "ExecuteTime": {
     "end_time": "2020-02-23T09:58:27.587640Z",
     "start_time": "2020-02-23T09:58:27.582614Z"
    }
   },
   "outputs": [],
   "source": [
    "# 设置新的边长\n",
    "sideLen = 32"
   ]
  },
  {
   "cell_type": "code",
   "execution_count": 8,
   "metadata": {
    "ExecuteTime": {
     "end_time": "2020-02-23T09:58:31.677079Z",
     "start_time": "2020-02-23T09:58:31.672093Z"
    }
   },
   "outputs": [
    {
     "name": "stdout",
     "output_type": "stream",
     "text": [
      "(152730, 50, 9, 9)\n"
     ]
    }
   ],
   "source": [
    "timeFirst = time_headMap.swapaxes(2, 3).swapaxes(1, 2)\n",
    "\n",
    "print(timeFirst.shape)"
   ]
  },
  {
   "cell_type": "code",
   "execution_count": 9,
   "metadata": {
    "ExecuteTime": {
     "end_time": "2020-02-23T09:58:36.405119Z",
     "start_time": "2020-02-23T09:58:36.385138Z"
    }
   },
   "outputs": [
    {
     "data": {
      "text/plain": [
       "20"
      ]
     },
     "execution_count": 9,
     "metadata": {},
     "output_type": "execute_result"
    }
   ],
   "source": [
    "import gc\n",
    "del time_headMap, eeg\n",
    "gc.collect()"
   ]
  },
  {
   "cell_type": "code",
   "execution_count": null,
   "metadata": {
    "ExecuteTime": {
     "start_time": "2020-02-23T09:59:30.919Z"
    }
   },
   "outputs": [],
   "source": [
    "from scipy import interpolate\n",
    "\n",
    "timeMap = np.zeros([timeFirst.shape[0], timeFirst.shape[1],\n",
    "                    sideLen, sideLen], dtype=np.float32)\n",
    "\n",
    "for i in range(timeFirst.shape[0]):  # 样本数循环\n",
    "    for j in range(timeFirst.shape[1]):  # 频率循环\n",
    "        x = np.arange(9)\n",
    "        y = np.arange(9)\n",
    "        z = timeFirst[i][j]  # 取出每一个平面\n",
    "\n",
    "        f = interpolate.interp2d(x, y, z, kind='cubic')  # cubic为三次\n",
    "        xnew = np.linspace(0, 8, sideLen)\n",
    "        ynew = np.linspace(0, 8, sideLen)\n",
    "        timeMap[i][j] = f(xnew, ynew)"
   ]
  },
  {
   "cell_type": "code",
   "execution_count": null,
   "metadata": {
    "ExecuteTime": {
     "start_time": "2020-02-23T09:59:31.495Z"
    }
   },
   "outputs": [],
   "source": [
    "import pylab as pl\n",
    "import matplotlib as mpl\n",
    "\n",
    "%matplotlib inline\n",
    "pl.subplot(121)\n",
    "im1 = pl.imshow(timeFirst[0][0], extent=[-1, 1, -1, 1],\n",
    "                cmap=mpl.cm.hot, interpolation='nearest', origin=\"lower\")\n",
    "pl.colorbar(im1)\n",
    "\n",
    "pl.subplot(122)\n",
    "im2 = pl.imshow(timeMap[0][0], extent=[-1, 1, -1, 1],\n",
    "                cmap=mpl.cm.hot, interpolation='nearest', origin=\"lower\")\n",
    "pl.colorbar(im1)\n",
    "pl.show()"
   ]
  },
  {
   "cell_type": "code",
   "execution_count": null,
   "metadata": {
    "ExecuteTime": {
     "start_time": "2020-02-23T09:59:38.353Z"
    }
   },
   "outputs": [],
   "source": [
    "# 标准化\n",
    "#sample * time * 32 * 32\n",
    "for i in range(timeMap.shape[0]):\n",
    "    for j in range(timeMap.shape[1]):\n",
    "        timeMap[i][j] = timeMap[i][j] - timeMap[i][j].mean()\n",
    "\n",
    "for i in range(timeMap.shape[0]):\n",
    "    for j in range(timeMap.shape[1]):\n",
    "        timeMap[i][j] = timeMap[i][j] / timeMap[i][j].std()\n",
    "        \n",
    "# 换轴\n",
    "timeMap = timeMap.swapaxes(1, 2).swapaxes(2, 3)"
   ]
  },
  {
   "cell_type": "code",
   "execution_count": null,
   "metadata": {},
   "outputs": [],
   "source": [
    "raw_shape = list(timeMap.shape)\n",
    "raw_shape.append(1)\n",
    "\n",
    "timeMap = timeMap.reshape(raw_shape)"
   ]
  },
  {
   "cell_type": "code",
   "execution_count": null,
   "metadata": {
    "ExecuteTime": {
     "start_time": "2020-02-23T10:00:08.232Z"
    }
   },
   "outputs": [],
   "source": [
    "# 导出\n",
    "np.save('SEED_temporal_map', timeMap)"
   ]
  },
  {
   "cell_type": "code",
   "execution_count": null,
   "metadata": {},
   "outputs": [],
   "source": []
  }
 ],
 "metadata": {
  "kernelspec": {
   "display_name": "Python 3",
   "language": "python",
   "name": "python3"
  },
  "language_info": {
   "codemirror_mode": {
    "name": "ipython",
    "version": 3
   },
   "file_extension": ".py",
   "mimetype": "text/x-python",
   "name": "python",
   "nbconvert_exporter": "python",
   "pygments_lexer": "ipython3",
   "version": "3.6.9"
  },
  "toc": {
   "base_numbering": 1,
   "nav_menu": {},
   "number_sections": true,
   "sideBar": true,
   "skip_h1_title": false,
   "title_cell": "Table of Contents",
   "title_sidebar": "Contents",
   "toc_cell": false,
   "toc_position": {},
   "toc_section_display": true,
   "toc_window_display": false
  },
  "varInspector": {
   "cols": {
    "lenName": 16,
    "lenType": 16,
    "lenVar": 40
   },
   "kernels_config": {
    "python": {
     "delete_cmd_postfix": "",
     "delete_cmd_prefix": "del ",
     "library": "var_list.py",
     "varRefreshCmd": "print(var_dic_list())"
    },
    "r": {
     "delete_cmd_postfix": ") ",
     "delete_cmd_prefix": "rm(",
     "library": "var_list.r",
     "varRefreshCmd": "cat(var_dic_list()) "
    }
   },
   "oldHeight": 366.602454,
   "position": {
    "height": "388.05px",
    "left": "690.375px",
    "right": "20px",
    "top": "152px",
    "width": "272.075px"
   },
   "types_to_exclude": [
    "module",
    "function",
    "builtin_function_or_method",
    "instance",
    "_Feature"
   ],
   "varInspector_section_display": "block",
   "window_display": false
  }
 },
 "nbformat": 4,
 "nbformat_minor": 2
}
