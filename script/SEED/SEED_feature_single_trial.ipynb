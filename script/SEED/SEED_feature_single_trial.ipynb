{
 "cells": [
  {
   "cell_type": "markdown",
   "metadata": {},
   "source": [
    "# 导入"
   ]
  },
  {
   "cell_type": "code",
   "execution_count": 1,
   "metadata": {
    "ExecuteTime": {
     "end_time": "2020-10-13T14:06:29.755649Z",
     "start_time": "2020-10-13T14:06:29.264516Z"
    }
   },
   "outputs": [],
   "source": [
    "import numpy as np\n",
    "import os\n",
    "import scipy.io as sio\n",
    "import gc"
   ]
  },
  {
   "cell_type": "code",
   "execution_count": 2,
   "metadata": {
    "ExecuteTime": {
     "end_time": "2020-10-13T14:06:29.834948Z",
     "start_time": "2020-10-13T14:06:29.816220Z"
    }
   },
   "outputs": [],
   "source": [
    "matFile = []\n",
    "matFile.append(r'./ExtractedFeatures/1_20131027.mat')\n",
    "matFile.append(r'./ExtractedFeatures/1_20131030.mat')\n",
    "matFile.append(r'./ExtractedFeatures/1_20131107.mat')\n",
    "matFile.append(r'./ExtractedFeatures/2_20140404.mat')\n",
    "matFile.append(r'./ExtractedFeatures/2_20140413.mat')\n",
    "matFile.append(r'./ExtractedFeatures/2_20140419.mat')\n",
    "matFile.append(r'./ExtractedFeatures/3_20140603.mat')\n",
    "matFile.append(r'./ExtractedFeatures/3_20140611.mat')\n",
    "matFile.append(r'./ExtractedFeatures/3_20140629.mat')\n",
    "matFile.append(r'./ExtractedFeatures/4_20140621.mat')\n",
    "matFile.append(r'./ExtractedFeatures/4_20140702.mat')\n",
    "matFile.append(r'./ExtractedFeatures/4_20140705.mat')\n",
    "matFile.append(r'./ExtractedFeatures/5_20140411.mat')\n",
    "matFile.append(r'./ExtractedFeatures/5_20140418.mat')\n",
    "matFile.append(r'./ExtractedFeatures/5_20140506.mat')\n",
    "matFile.append(r'./ExtractedFeatures/6_20130712.mat')\n",
    "matFile.append(r'./ExtractedFeatures/6_20131016.mat')\n",
    "matFile.append(r'./ExtractedFeatures/6_20131113.mat')\n",
    "matFile.append(r'./ExtractedFeatures/7_20131027.mat')\n",
    "matFile.append(r'./ExtractedFeatures/7_20131030.mat')\n",
    "matFile.append(r'./ExtractedFeatures/7_20131106.mat')\n",
    "matFile.append(r'./ExtractedFeatures/8_20140511.mat')\n",
    "matFile.append(r'./ExtractedFeatures/8_20140514.mat')\n",
    "matFile.append(r'./ExtractedFeatures/8_20140521.mat')\n",
    "matFile.append(r'./ExtractedFeatures/9_20140620.mat')\n",
    "matFile.append(r'./ExtractedFeatures/9_20140627.mat')\n",
    "matFile.append(r'./ExtractedFeatures/9_20140704.mat')\n",
    "matFile.append(r'./ExtractedFeatures/10_20131130.mat')\n",
    "matFile.append(r'./ExtractedFeatures/10_20131204.mat')\n",
    "matFile.append(r'./ExtractedFeatures/10_20131211.mat')\n",
    "matFile.append(r'./ExtractedFeatures/11_20140618.mat')\n",
    "matFile.append(r'./ExtractedFeatures/11_20140625.mat')\n",
    "matFile.append(r'./ExtractedFeatures/11_20140630.mat')\n",
    "matFile.append(r'./ExtractedFeatures/12_20131127.mat')\n",
    "matFile.append(r'./ExtractedFeatures/12_20131201.mat')\n",
    "matFile.append(r'./ExtractedFeatures/12_20131207.mat')\n",
    "matFile.append(r'./ExtractedFeatures/13_20140527.mat')\n",
    "matFile.append(r'./ExtractedFeatures/13_20140603.mat')\n",
    "matFile.append(r'./ExtractedFeatures/13_20140610.mat')\n",
    "matFile.append(r'./ExtractedFeatures/14_20140601.mat')\n",
    "matFile.append(r'./ExtractedFeatures/14_20140615.mat')\n",
    "matFile.append(r'./ExtractedFeatures/14_20140627.mat')\n",
    "matFile.append(r'./ExtractedFeatures/15_20130709.mat')\n",
    "matFile.append(r'./ExtractedFeatures/15_20131016.mat')\n",
    "matFile.append(r'./ExtractedFeatures/15_20131105.mat')"
   ]
  },
  {
   "cell_type": "code",
   "execution_count": 3,
   "metadata": {
    "ExecuteTime": {
     "end_time": "2020-10-13T14:06:31.948211Z",
     "start_time": "2020-10-13T14:06:31.944485Z"
    }
   },
   "outputs": [],
   "source": [
    "count=0\n",
    "SepMatFile = []\n",
    "temp=[]\n",
    "for i in matFile:\n",
    "    temp.append(i)\n",
    "    if(count % 3 == 2):\n",
    "        SepMatFile.append(temp)\n",
    "        temp = []\n",
    "    count+=1"
   ]
  },
  {
   "cell_type": "code",
   "execution_count": 4,
   "metadata": {
    "ExecuteTime": {
     "end_time": "2020-10-13T14:07:03.565733Z",
     "start_time": "2020-10-13T14:06:33.670538Z"
    }
   },
   "outputs": [],
   "source": [
    "data = []\n",
    "for i in SepMatFile:\n",
    "    singleData = []\n",
    "    for j in i:\n",
    "        singleData.append(sio.loadmat(j))  # 读取该目录下的所有.mat文件\n",
    "    data.append(singleData)"
   ]
  },
  {
   "cell_type": "markdown",
   "metadata": {
    "ExecuteTime": {
     "end_time": "2020-02-23T07:03:27.217435Z",
     "start_time": "2020-02-23T07:03:27.205431Z"
    }
   },
   "source": [
    "Data: 15(Subjects) $\\times$ 3(Experiments/.mat)"
   ]
  },
  {
   "cell_type": "code",
   "execution_count": 7,
   "metadata": {
    "ExecuteTime": {
     "end_time": "2020-10-13T14:09:33.658218Z",
     "start_time": "2020-10-13T14:09:33.651978Z"
    }
   },
   "outputs": [
    {
     "data": {
      "text/plain": [
       "(62, 235, 5)"
      ]
     },
     "execution_count": 7,
     "metadata": {},
     "output_type": "execute_result"
    }
   ],
   "source": [
    "data[0][0]['de_movingAve1'].shape"
   ]
  },
  {
   "cell_type": "code",
   "execution_count": 5,
   "metadata": {
    "ExecuteTime": {
     "end_time": "2020-02-23T07:04:27.836093Z",
     "start_time": "2020-02-23T07:04:27.831104Z"
    }
   },
   "outputs": [],
   "source": [
    "de_keys = []\n",
    "\n",
    "for i in range(15):\n",
    "    de_keys.append('de_LDS' + str(i+1))"
   ]
  },
  {
   "cell_type": "code",
   "execution_count": 6,
   "metadata": {
    "ExecuteTime": {
     "end_time": "2020-02-23T07:04:46.936348Z",
     "start_time": "2020-02-23T07:04:46.932321Z"
    }
   },
   "outputs": [
    {
     "name": "stdout",
     "output_type": "stream",
     "text": [
      "['de_LDS1', 'de_LDS2', 'de_LDS3', 'de_LDS4', 'de_LDS5', 'de_LDS6', 'de_LDS7', 'de_LDS8', 'de_LDS9', 'de_LDS10', 'de_LDS11', 'de_LDS12', 'de_LDS13', 'de_LDS14', 'de_LDS15']\n"
     ]
    }
   ],
   "source": [
    "print(de_keys)"
   ]
  },
  {
   "cell_type": "code",
   "execution_count": 7,
   "metadata": {
    "ExecuteTime": {
     "end_time": "2020-02-23T07:06:40.856629Z",
     "start_time": "2020-02-23T07:06:40.849646Z"
    }
   },
   "outputs": [],
   "source": [
    "all_length = []\n",
    "all_de_exp = []\n",
    "\n",
    "for i in range(len(data)): # Subject循环\n",
    "    length = []\n",
    "    de_exp = []\n",
    "    for j in range(3): # .mat循环\n",
    "        temp_length = []\n",
    "        temp_de_exp = []    \n",
    "\n",
    "        for k in de_keys: # 实验数循环\n",
    "            temp_de_exp.append(data[i][j][k])\n",
    "            temp_length.append(data[i][j][k].shape[1])\n",
    "\n",
    "        length.append(temp_length)\n",
    "        de_exp.append(temp_de_exp)\n",
    "    all_length.append(length)\n",
    "    all_de_exp.append(de_exp)"
   ]
  },
  {
   "cell_type": "code",
   "execution_count": 8,
   "metadata": {
    "ExecuteTime": {
     "end_time": "2020-02-23T07:08:03.267187Z",
     "start_time": "2020-02-23T07:08:03.261203Z"
    }
   },
   "outputs": [],
   "source": [
    "all_de_exp_arr = np.zeros([15, 3, 15, 62, max(temp_length),5])"
   ]
  },
  {
   "cell_type": "code",
   "execution_count": 9,
   "metadata": {
    "ExecuteTime": {
     "end_time": "2020-02-23T07:08:51.255896Z",
     "start_time": "2020-02-23T07:08:50.838759Z"
    }
   },
   "outputs": [],
   "source": [
    "for i in range(15):\n",
    "    for j in range(3):\n",
    "        for k in range(15):\n",
    "            tem = all_de_exp[i][j][k]\n",
    "            all_de_exp_arr[i][j][k] = np.concatenate(\n",
    "                (tem, np.zeros([62, max(temp_length) - all_length[i][j][k], 5])), axis=1)"
   ]
  },
  {
   "cell_type": "markdown",
   "metadata": {},
   "source": [
    "# 展平、标签、去0"
   ]
  },
  {
   "cell_type": "code",
   "execution_count": 10,
   "metadata": {
    "ExecuteTime": {
     "end_time": "2020-02-23T07:09:41.917630Z",
     "start_time": "2020-02-23T07:09:41.911646Z"
    }
   },
   "outputs": [
    {
     "data": {
      "text/plain": [
       "(15, 3, 15, 62, 265, 5)"
      ]
     },
     "execution_count": 10,
     "metadata": {},
     "output_type": "execute_result"
    }
   ],
   "source": [
    "all_de_exp_arr.shape"
   ]
  },
  {
   "cell_type": "code",
   "execution_count": 11,
   "metadata": {
    "ExecuteTime": {
     "end_time": "2020-02-23T07:10:06.034236Z",
     "start_time": "2020-02-23T07:10:06.029230Z"
    }
   },
   "outputs": [
    {
     "name": "stdout",
     "output_type": "stream",
     "text": [
      "(15, 3, 15, 265, 62, 5)\n"
     ]
    }
   ],
   "source": [
    "all_de_exp_arr = all_de_exp_arr.swapaxes(-2, -3)\n",
    "rawShape = all_de_exp_arr.shape\n",
    "print(rawShape)"
   ]
  },
  {
   "cell_type": "code",
   "execution_count": 16,
   "metadata": {},
   "outputs": [],
   "source": [
    "np.save(\"all_feature_flat\", all_de_exp_arr)"
   ]
  },
  {
   "cell_type": "code",
   "execution_count": 12,
   "metadata": {},
   "outputs": [],
   "source": [
    "de = all_de_exp_arr"
   ]
  },
  {
   "cell_type": "code",
   "execution_count": 13,
   "metadata": {
    "ExecuteTime": {
     "end_time": "2020-02-23T07:12:42.942551Z",
     "start_time": "2020-02-23T07:12:42.116283Z"
    }
   },
   "outputs": [],
   "source": [
    "de_sub_list = []\n",
    "for i in range(15):\n",
    "    de_mat_list = []\n",
    "    for j in range(3):\n",
    "        de_trial_list = []\n",
    "        for k in range(15):\n",
    "            zero_index = []\n",
    "            for m in range(265):\n",
    "                if(de[i][j][k][m].sum() == 0):\n",
    "                    zero_index.append(m)\n",
    "            de_trial_list.append(np.delete(de[i][j][k], zero_index, axis=0))\n",
    "        de_mat_list.append(de_trial_list)\n",
    "    de_sub_list.append(de_mat_list)"
   ]
  },
  {
   "cell_type": "code",
   "execution_count": 14,
   "metadata": {
    "scrolled": true
   },
   "outputs": [
    {
     "ename": "FileExistsError",
     "evalue": "[Errno 17] File exists: 'trials/feature/subject_0'",
     "output_type": "error",
     "traceback": [
      "\u001b[0;31m---------------------------------------------------------------------------\u001b[0m",
      "\u001b[0;31mFileExistsError\u001b[0m                           Traceback (most recent call last)",
      "\u001b[0;32m<ipython-input-14-69776dc43720>\u001b[0m in \u001b[0;36m<module>\u001b[0;34m\u001b[0m\n\u001b[1;32m      1\u001b[0m \u001b[0;32mfor\u001b[0m \u001b[0mi\u001b[0m \u001b[0;32min\u001b[0m \u001b[0mrange\u001b[0m\u001b[0;34m(\u001b[0m\u001b[0;36m15\u001b[0m\u001b[0;34m)\u001b[0m\u001b[0;34m:\u001b[0m\u001b[0;34m\u001b[0m\u001b[0;34m\u001b[0m\u001b[0m\n\u001b[0;32m----> 2\u001b[0;31m     \u001b[0mos\u001b[0m\u001b[0;34m.\u001b[0m\u001b[0mmkdir\u001b[0m\u001b[0;34m(\u001b[0m\u001b[0;34m\"trials/feature/subject_\"\u001b[0m \u001b[0;34m+\u001b[0m \u001b[0mstr\u001b[0m\u001b[0;34m(\u001b[0m\u001b[0mi\u001b[0m\u001b[0;34m)\u001b[0m\u001b[0;34m)\u001b[0m\u001b[0;34m\u001b[0m\u001b[0;34m\u001b[0m\u001b[0m\n\u001b[0m\u001b[1;32m      3\u001b[0m     \u001b[0;32mfor\u001b[0m \u001b[0mj\u001b[0m \u001b[0;32min\u001b[0m \u001b[0mrange\u001b[0m\u001b[0;34m(\u001b[0m\u001b[0;36m3\u001b[0m\u001b[0;34m)\u001b[0m\u001b[0;34m:\u001b[0m\u001b[0;34m\u001b[0m\u001b[0;34m\u001b[0m\u001b[0m\n\u001b[1;32m      4\u001b[0m         \u001b[0mos\u001b[0m\u001b[0;34m.\u001b[0m\u001b[0mmkdir\u001b[0m\u001b[0;34m(\u001b[0m\u001b[0;34m\"trials/feature/subject_\"\u001b[0m \u001b[0;34m+\u001b[0m \u001b[0mstr\u001b[0m\u001b[0;34m(\u001b[0m\u001b[0mi\u001b[0m\u001b[0;34m)\u001b[0m \u001b[0;34m+\u001b[0m \u001b[0;34m\"/section_\"\u001b[0m \u001b[0;34m+\u001b[0m \u001b[0mstr\u001b[0m\u001b[0;34m(\u001b[0m\u001b[0mj\u001b[0m\u001b[0;34m)\u001b[0m\u001b[0;34m)\u001b[0m\u001b[0;34m\u001b[0m\u001b[0;34m\u001b[0m\u001b[0m\n",
      "\u001b[0;31mFileExistsError\u001b[0m: [Errno 17] File exists: 'trials/feature/subject_0'"
     ]
    }
   ],
   "source": [
    "for i in range(15):\n",
    "    os.mkdir(\"trials/feature/subject_\" + str(i))\n",
    "    for j in range(3):\n",
    "        os.mkdir(\"trials/feature/subject_\" + str(i) + \"/section_\" + str(j))"
   ]
  },
  {
   "cell_type": "code",
   "execution_count": 17,
   "metadata": {},
   "outputs": [],
   "source": [
    "# 电极对应到二维矩阵中，可对应map.xlsx中的图看看\n",
    "for i in range(15):\n",
    "    for j in range(3):\n",
    "        for k in range(15):\n",
    "            nSample = de_sub_list[i][j][k].shape[0]\n",
    "            de_headMap = np.zeros([nSample, 9, 9, 5])\n",
    "            for x in range(nSample):  # 样本数循环\n",
    "                # 0-1行\n",
    "                de_headMap[x][0][3] = de_sub_list[i][j][k][x][0]\n",
    "                de_headMap[x][0][4] = de_sub_list[i][j][k][x][1]\n",
    "                de_headMap[x][0][5] = de_sub_list[i][j][k][x][2]\n",
    "                de_headMap[x][1][3] = de_sub_list[i][j][k][x][3]\n",
    "                de_headMap[x][1][5] = de_sub_list[i][j][k][x][4]\n",
    "\n",
    "                # 2-5行\n",
    "                for m in range(2, 7):\n",
    "                    for n in range(9):\n",
    "                        de_headMap[x][m][n] = de_sub_list[i][j][k][x][(m - 2) * 9 + n + 5]\n",
    "\n",
    "                # 第7行\n",
    "                for m in range(1, 8):\n",
    "                    de_headMap[x][7][m] = de_sub_list[i][j][k][x][m + 49]\n",
    "\n",
    "                # 第8行\n",
    "                for m in range(2, 7):\n",
    "                    de_headMap[x][8][m] = de_sub_list[i][j][k][x][m + 55]\n",
    "            np.save(\"trials/feature//subject_\" + str(i) + \"/section_\" + str(j) + \"/trial_temp\" + str(k), de_headMap)"
   ]
  },
  {
   "cell_type": "code",
   "execution_count": 17,
   "metadata": {},
   "outputs": [
    {
     "data": {
      "text/plain": [
       "(206, 9, 9, 5)"
      ]
     },
     "execution_count": 17,
     "metadata": {},
     "output_type": "execute_result"
    }
   ],
   "source": [
    "de_headMap.shape"
   ]
  },
  {
   "cell_type": "code",
   "execution_count": null,
   "metadata": {},
   "outputs": [],
   "source": [
    "# 设置新的边长\n",
    "sideLen = 32"
   ]
  },
  {
   "cell_type": "code",
   "execution_count": 18,
   "metadata": {},
   "outputs": [],
   "source": [
    "from scipy import interpolate\n",
    "\n",
    "for i in range(15):\n",
    "    for j in range(3):\n",
    "        for k in range(15):\n",
    "            de_headMap = np.load(\"trials/feature/subject_\" + str(i) + \"/section_\" + str(j) + \"/trial_temp\" + str(k) + \".npy\")\n",
    "            de_timeFirst = de_headMap.swapaxes(-1, -2).swapaxes(-2, -3)\n",
    "            deMap_bigger = np.zeros([de_timeFirst.shape[0], 5, sideLen, sideLen])\n",
    "            for m in range(de_timeFirst.shape[0]):  # 样本数循环\n",
    "                for n in range(5):  # 频率循环\n",
    "                    x = np.arange(9)\n",
    "                    y = np.arange(9)\n",
    "                    z = de_timeFirst[m][n]  # 取出每一个平面\n",
    "\n",
    "                    f = interpolate.interp2d(x, y, z, kind='cubic')  # cubic为三次\n",
    "                    xnew = np.linspace(0, 8, sideLen)\n",
    "                    ynew = np.linspace(0, 8, sideLen)\n",
    "                    deMap_bigger[m][n] = f(xnew, ynew)\n",
    "            np.save(\"trials/feature/subject_\" + str(i) + \"/section_\" + str(j) + \"/trial_interpolated_\" + str(k) + \".npy\", deMap_bigger)"
   ]
  },
  {
   "cell_type": "code",
   "execution_count": 19,
   "metadata": {},
   "outputs": [],
   "source": [
    "# 标准化\n",
    "#sample * time * 32 * 32\n",
    "for i in range(15):\n",
    "    for j in range(3):\n",
    "        for k in range(15):\n",
    "            eegMap = np.load(\"trials/feature/subject_\" + str(i) + \"/section_\" + str(j) + \"/trial_interpolated_\" + str(k) + \".npy\")\n",
    "            for m in range(eegMap.shape[0]):\n",
    "                for n in range(eegMap.shape[1]):\n",
    "                    eegMap[m][n] = eegMap[m][n] - eegMap[m][n].mean()\n",
    "\n",
    "            for m in range(eegMap.shape[0]):\n",
    "                for n in range(eegMap.shape[1]):\n",
    "                    eegMap[m][n] = eegMap[m][n] / eegMap[m][n].std()\n",
    "\n",
    "            # 换轴\n",
    "            eegMap = eegMap.swapaxes(1, 2).swapaxes(2, 3)\n",
    "\n",
    "            #添加维度\n",
    "            raw_shape = list(eegMap.shape)\n",
    "            raw_shape.append(1)\n",
    "\n",
    "            eegMap = eegMap.reshape(raw_shape)\n",
    "\n",
    "            # 降低精度为单精度（float32）\n",
    "            dt = np.dtype(np.float32)\n",
    "            eegMap = np.array(eegMap, dtype=dt)\n",
    "            np.save(\"trials/feature/subject_\" + str(i) + \"/section_\" + str(j) + \"/trial_\" + str(k) + \".npy\", eegMap)"
   ]
  },
  {
   "cell_type": "markdown",
   "metadata": {},
   "source": [
    "# DE"
   ]
  },
  {
   "cell_type": "code",
   "execution_count": 58,
   "metadata": {
    "ExecuteTime": {
     "end_time": "2020-02-23T07:16:52.480064Z",
     "start_time": "2020-02-23T07:16:52.327290Z"
    }
   },
   "outputs": [],
   "source": [
    "de = np.load('./de_flat.npy')"
   ]
  },
  {
   "cell_type": "code",
   "execution_count": 59,
   "metadata": {
    "ExecuteTime": {
     "end_time": "2020-02-23T07:17:15.252733Z",
     "start_time": "2020-02-23T07:17:15.247773Z"
    }
   },
   "outputs": [],
   "source": [
    "#inputShape = 15 * nSample * 62(channel) * 5(freqBand)\n",
    "#MapShape = 15 * nSample * 100(freq) * (9*9)\n",
    "freqBand = 5\n",
    "\n",
    "nSample = de.shape[1]\n",
    "de_headMap = np.zeros([15, nSample, 9, 9, freqBand])"
   ]
  },
  {
   "cell_type": "code",
   "execution_count": 60,
   "metadata": {
    "ExecuteTime": {
     "end_time": "2020-02-23T07:17:20.346792Z",
     "start_time": "2020-02-23T07:17:20.341805Z"
    }
   },
   "outputs": [
    {
     "name": "stdout",
     "output_type": "stream",
     "text": [
      "10182\n"
     ]
    }
   ],
   "source": [
    "print(nSample)"
   ]
  },
  {
   "cell_type": "code",
   "execution_count": 61,
   "metadata": {
    "ExecuteTime": {
     "end_time": "2020-02-23T07:17:31.482526Z",
     "start_time": "2020-02-23T07:17:22.061859Z"
    }
   },
   "outputs": [],
   "source": [
    "# 电极对应到二维矩阵中，可对应map.xlsx中的图看看\n",
    "for i in range(15):\n",
    "    for j in range(nSample):  # 样本数循环\n",
    "        # 0-1行\n",
    "        de_headMap[i][j][0][3] = de[i][j][0]\n",
    "        de_headMap[i][j][0][4] = de[i][j][1]\n",
    "        de_headMap[i][j][0][5] = de[i][j][2]\n",
    "        de_headMap[i][j][1][3] = de[i][j][3]\n",
    "        de_headMap[i][j][1][5] = de[i][j][4]\n",
    "\n",
    "        # 2-5行\n",
    "        for m in range(2, 7):\n",
    "            for k in range(9):\n",
    "                de_headMap[i][j][m][k] = de[i][j][(m - 2) * 9 + k + 5]\n",
    "\n",
    "        # 第7行\n",
    "        for m in range(1, 8):\n",
    "            de_headMap[i][j][7][m] = de[i][j][m + 49]\n",
    "\n",
    "        # 第8行\n",
    "        for m in range(2, 7):\n",
    "            de_headMap[i][j][8][m] = de[i][j][m + 55]"
   ]
  },
  {
   "cell_type": "code",
   "execution_count": 62,
   "metadata": {},
   "outputs": [
    {
     "data": {
      "text/plain": [
       "(15, 10182, 9, 9, 5)"
      ]
     },
     "execution_count": 62,
     "metadata": {},
     "output_type": "execute_result"
    }
   ],
   "source": [
    "de_headMap.shape"
   ]
  },
  {
   "cell_type": "code",
   "execution_count": 64,
   "metadata": {
    "ExecuteTime": {
     "end_time": "2020-02-23T07:17:33.403055Z",
     "start_time": "2020-02-23T07:17:31.527251Z"
    }
   },
   "outputs": [
    {
     "name": "stdout",
     "output_type": "stream",
     "text": [
      "Trail: 4357  Freq = 5.0Hz\n"
     ]
    },
    {
     "data": {
      "image/png": "[encoded data removed]",
      "text/plain": [
       "<Figure size 288x288 with 2 Axes>"
      ]
     },
     "metadata": {},
     "output_type": "display_data"
    }
   ],
   "source": [
    "import matplotlib\n",
    "import matplotlib.pyplot as plt\n",
    "import random\n",
    "\n",
    "freqFirst = de_headMap.swapaxes(2, 4).swapaxes(3, 4)\n",
    "\n",
    "randTr = random.randint(1, de_headMap.shape[1])\n",
    "randTime = random.randint(0, 5)\n",
    "\n",
    "arr = freqFirst[0][0][randTime]\n",
    "\n",
    "print('Trail: ' + str(randTr) + '  Freq = ' + str(randTime * 2.5) + 'Hz')\n",
    "plt.matshow(arr, cmap='hot_r')\n",
    "plt.colorbar()\n",
    "plt.show()"
   ]
  },
  {
   "cell_type": "code",
   "execution_count": 65,
   "metadata": {
    "ExecuteTime": {
     "end_time": "2020-02-23T07:17:34.171181Z",
     "start_time": "2020-02-23T07:17:33.475389Z"
    }
   },
   "outputs": [
    {
     "name": "stdout",
     "output_type": "stream",
     "text": [
      "(15, 10182, 9, 9, 5)\n"
     ]
    }
   ],
   "source": [
    "print(de_headMap.shape)\n",
    "np.save('SEED_feature_de-map_sepe',de_headMap)"
   ]
  },
  {
   "cell_type": "markdown",
   "metadata": {},
   "source": [
    "# 三次样条插值"
   ]
  },
  {
   "cell_type": "code",
   "execution_count": 66,
   "metadata": {
    "ExecuteTime": {
     "end_time": "2020-02-23T07:17:40.476057Z",
     "start_time": "2020-02-23T07:17:40.276893Z"
    }
   },
   "outputs": [],
   "source": [
    "de_map = np.load('./SEED_feature_de-map_sepe.npy')"
   ]
  },
  {
   "cell_type": "code",
   "execution_count": 67,
   "metadata": {
    "ExecuteTime": {
     "end_time": "2020-02-23T07:17:41.447501Z",
     "start_time": "2020-02-23T07:17:41.444467Z"
    }
   },
   "outputs": [],
   "source": [
    "# 设置新的边长\n",
    "sideLen = 32"
   ]
  },
  {
   "cell_type": "code",
   "execution_count": 68,
   "metadata": {
    "ExecuteTime": {
     "end_time": "2020-02-23T07:17:42.543504Z",
     "start_time": "2020-02-23T07:17:42.540865Z"
    }
   },
   "outputs": [],
   "source": [
    "de_freqFirst = de_map.swapaxes(3, 4).swapaxes(2, 3)"
   ]
  },
  {
   "cell_type": "code",
   "execution_count": 69,
   "metadata": {},
   "outputs": [
    {
     "data": {
      "text/plain": [
       "(15, 10182, 5, 9, 9)"
      ]
     },
     "execution_count": 69,
     "metadata": {},
     "output_type": "execute_result"
    }
   ],
   "source": [
    "de_freqFirst.shape"
   ]
  },
  {
   "cell_type": "code",
   "execution_count": 70,
   "metadata": {
    "ExecuteTime": {
     "end_time": "2020-02-23T07:19:12.177362Z",
     "start_time": "2020-02-23T07:17:44.132775Z"
    }
   },
   "outputs": [],
   "source": [
    "from scipy import interpolate\n",
    "\n",
    "deMap = np.zeros([15, de_freqFirst.shape[1], 5, sideLen, sideLen])\n",
    "\n",
    "for i in range(15):\n",
    "    for j in range(de_freqFirst.shape[1]):  # 样本数循环\n",
    "        for k in range(5):  # 频率循环\n",
    "            x = np.arange(9)\n",
    "            y = np.arange(9)\n",
    "            z = de_freqFirst[i][j][k]  # 取出每一个平面\n",
    "\n",
    "            f = interpolate.interp2d(x, y, z, kind='cubic')  # cubic为三次\n",
    "            xnew = np.linspace(0, 8, sideLen)\n",
    "            ynew = np.linspace(0, 8, sideLen)\n",
    "            deMap[i][j][k] = f(xnew, ynew)"
   ]
  },
  {
   "cell_type": "code",
   "execution_count": 71,
   "metadata": {
    "ExecuteTime": {
     "end_time": "2020-02-23T07:19:37.270749Z",
     "start_time": "2020-02-23T07:19:12.322737Z"
    }
   },
   "outputs": [],
   "source": [
    "# 标准化\n",
    "#sample * time * 32 * 32\n",
    "for i in range(deMap.shape[0]):\n",
    "    for j in range(deMap.shape[1]):\n",
    "        for k in range(deMap.shape[2]):\n",
    "            deMap[i][j][k] = deMap[i][j][k] - deMap[i][j][k].mean()\n",
    "\n",
    "for i in range(deMap.shape[0]):\n",
    "    for j in range(deMap.shape[1]):\n",
    "        for k in range(deMap.shape[2]):\n",
    "            deMap[i][j][k] = deMap[i][j][k] / deMap[i][j][k].std()\n",
    "\n",
    "# 换轴\n",
    "deMap = deMap.swapaxes(2, 3).swapaxes(3, 4)"
   ]
  },
  {
   "cell_type": "code",
   "execution_count": 72,
   "metadata": {
    "ExecuteTime": {
     "end_time": "2020-02-23T07:19:37.429325Z",
     "start_time": "2020-02-23T07:19:37.424341Z"
    }
   },
   "outputs": [
    {
     "data": {
      "text/plain": [
       "(15, 10182, 32, 32, 5)"
      ]
     },
     "execution_count": 72,
     "metadata": {},
     "output_type": "execute_result"
    }
   ],
   "source": [
    "deMap.shape"
   ]
  },
  {
   "cell_type": "code",
   "execution_count": 74,
   "metadata": {},
   "outputs": [
    {
     "data": {
      "text/plain": [
       "(15, 10182, 5, 32, 32)"
      ]
     },
     "execution_count": 74,
     "metadata": {},
     "output_type": "execute_result"
    }
   ],
   "source": [
    "temMap.shape"
   ]
  },
  {
   "cell_type": "code",
   "execution_count": 75,
   "metadata": {
    "ExecuteTime": {
     "end_time": "2020-02-23T07:19:38.261495Z",
     "start_time": "2020-02-23T07:19:37.556549Z"
    }
   },
   "outputs": [
    {
     "data": {
      "image/png": "[encoded data removed]",
      "text/plain": [
       "<Figure size 432x288 with 3 Axes>"
      ]
     },
     "metadata": {},
     "output_type": "display_data"
    }
   ],
   "source": [
    "temMap = deMap.swapaxes(3, 4).swapaxes(2, 3)\n",
    "\n",
    "import pylab as pl\n",
    "import matplotlib as mpl\n",
    "\n",
    "%matplotlib inline\n",
    "pl.subplot(121)\n",
    "im1 = pl.imshow(de_freqFirst[0][0][0], extent=[-1, 1, -1, 1],\n",
    "                cmap=mpl.cm.hot, interpolation='nearest', origin=\"lower\")\n",
    "\n",
    "pl.subplot(122)\n",
    "im2 = pl.imshow(temMap[0][0][4], extent=[-1, 1, -1, 1],\n",
    "                cmap=mpl.cm.hot, interpolation='nearest', origin=\"lower\")\n",
    "pl.colorbar(im2)\n",
    "\n",
    "pl.show()\n",
    "\n",
    "del temMap"
   ]
  },
  {
   "cell_type": "code",
   "execution_count": 76,
   "metadata": {},
   "outputs": [],
   "source": [
    "raw_shape = list(deMap.shape)\n",
    "raw_shape.append(1)\n",
    "\n",
    "deMap = deMap.reshape(raw_shape)"
   ]
  },
  {
   "cell_type": "code",
   "execution_count": 77,
   "metadata": {},
   "outputs": [
    {
     "data": {
      "text/plain": [
       "(15, 10182, 32, 32, 5, 1)"
      ]
     },
     "execution_count": 77,
     "metadata": {},
     "output_type": "execute_result"
    }
   ],
   "source": [
    "deMap.shape"
   ]
  },
  {
   "cell_type": "code",
   "execution_count": 78,
   "metadata": {
    "ExecuteTime": {
     "end_time": "2020-02-23T07:20:10.920007Z",
     "start_time": "2020-02-23T07:19:38.385114Z"
    }
   },
   "outputs": [],
   "source": [
    "# 降低精度为单精度（float32）\n",
    "dt = np.dtype(np.float32)\n",
    "deMap = np.array(deMap, dtype=dt)\n",
    "\n",
    "# 导出\n",
    "np.save('./single/SEED_feature_DE_map_sepe', deMap)"
   ]
  },
  {
   "cell_type": "code",
   "execution_count": null,
   "metadata": {},
   "outputs": [],
   "source": []
  }
 ],
 "metadata": {
  "kernelspec": {
   "display_name": "Python 3",
   "language": "python",
   "name": "python3"
  },
  "language_info": {
   "codemirror_mode": {
    "name": "ipython",
    "version": 3
   },
   "file_extension": ".py",
   "mimetype": "text/x-python",
   "name": "python",
   "nbconvert_exporter": "python",
   "pygments_lexer": "ipython3",
   "version": "3.6.9"
  },
  "toc": {
   "base_numbering": 1,
   "nav_menu": {},
   "number_sections": true,
   "sideBar": true,
   "skip_h1_title": false,
   "title_cell": "Table of Contents",
   "title_sidebar": "Contents",
   "toc_cell": false,
   "toc_position": {},
   "toc_section_display": true,
   "toc_window_display": false
  },
  "varInspector": {
   "cols": {
    "lenName": 16,
    "lenType": 16,
    "lenVar": 40
   },
   "kernels_config": {
    "python": {
     "delete_cmd_postfix": "",
     "delete_cmd_prefix": "del ",
     "library": "var_list.py",
     "varRefreshCmd": "print(var_dic_list())"
    },
    "r": {
     "delete_cmd_postfix": ") ",
     "delete_cmd_prefix": "rm(",
     "library": "var_list.r",
     "varRefreshCmd": "cat(var_dic_list()) "
    }
   },
   "oldHeight": 122.4,
   "position": {
    "height": "433.4px",
    "left": "1166px",
    "right": "20px",
    "top": "119px",
    "width": "311.4px"
   },
   "types_to_exclude": [
    "module",
    "function",
    "builtin_function_or_method",
    "instance",
    "_Feature"
   ],
   "varInspector_section_display": "block",
   "window_display": false
  }
 },
 "nbformat": 4,
 "nbformat_minor": 2
}
