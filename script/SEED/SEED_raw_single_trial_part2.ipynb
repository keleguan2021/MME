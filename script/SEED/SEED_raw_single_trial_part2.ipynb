{
 "cells": [
  {
   "cell_type": "code",
   "execution_count": 1,
   "metadata": {},
   "outputs": [],
   "source": [
    "import numpy as np\n",
    "import os\n",
    "import scipy.io as sio\n",
    "import gc"
   ]
  },
  {
   "cell_type": "code",
   "execution_count": 2,
   "metadata": {},
   "outputs": [],
   "source": [
    "eeg = np.load(\"trials/SEED_time_series_25_single_trail.npy\")"
   ]
  },
  {
   "cell_type": "code",
   "execution_count": 3,
   "metadata": {},
   "outputs": [
    {
     "data": {
      "text/plain": [
       "(15, 3, 15, 266, 62, 25)"
      ]
     },
     "execution_count": 3,
     "metadata": {},
     "output_type": "execute_result"
    }
   ],
   "source": [
    "eeg.shape"
   ]
  },
  {
   "cell_type": "code",
   "execution_count": 4,
   "metadata": {},
   "outputs": [],
   "source": [
    "eeg_sub_list = []\n",
    "for i in range(15):\n",
    "    eeg_mat_list = []\n",
    "    for j in range(3):\n",
    "        eeg_trial_list = []\n",
    "        for k in range(15):\n",
    "            zero_index = []\n",
    "            for m in range(266):\n",
    "                if(eeg[i][j][k][m].sum() == 0):\n",
    "                    zero_index.append(m)\n",
    "            eeg_trial_list.append(np.delete(eeg[i][j][k], zero_index, axis=0))\n",
    "        eeg_mat_list.append(eeg_trial_list)\n",
    "    eeg_sub_list.append(eeg_mat_list)"
   ]
  },
  {
   "cell_type": "code",
   "execution_count": 5,
   "metadata": {},
   "outputs": [],
   "source": [
    "for i in range(15):\n",
    "    os.mkdir(\"trials/temporal/subject_\" + str(i))\n",
    "    for j in range(3):\n",
    "        os.mkdir(\"trials/temporal/subject_\" + str(i) + \"/section_\" + str(j))"
   ]
  },
  {
   "cell_type": "code",
   "execution_count": 6,
   "metadata": {},
   "outputs": [
    {
     "data": {
      "text/plain": [
       "(206, 62, 25)"
      ]
     },
     "execution_count": 6,
     "metadata": {},
     "output_type": "execute_result"
    }
   ],
   "source": [
    "eeg_sub_list[0][0][2].shape"
   ]
  },
  {
   "cell_type": "code",
   "execution_count": 7,
   "metadata": {},
   "outputs": [],
   "source": [
    "timeLength = 25\n",
    "\n",
    "# 电极对应到二维矩阵中，可对应map.xlsx中的图看看\n",
    "for i in range(15):\n",
    "    for j in range(3):\n",
    "        for k in range(15):\n",
    "            nSample = eeg_sub_list[i][j][k].shape[0]\n",
    "            eeg_headMap = np.zeros([nSample, 9, 9, timeLength])\n",
    "            for x in range(nSample):  # 样本数循环\n",
    "                # 0-1行\n",
    "                eeg_headMap[x][0][3] = eeg_sub_list[i][j][k][x][0]\n",
    "                eeg_headMap[x][0][4] = eeg_sub_list[i][j][k][x][1]\n",
    "                eeg_headMap[x][0][5] = eeg_sub_list[i][j][k][x][2]\n",
    "                eeg_headMap[x][1][3] = eeg_sub_list[i][j][k][x][3]\n",
    "                eeg_headMap[x][1][5] = eeg_sub_list[i][j][k][x][4]\n",
    "\n",
    "                # 2-5行\n",
    "                for m in range(2, 7):\n",
    "                    for n in range(9):\n",
    "                        eeg_headMap[x][m][n] = eeg_sub_list[i][j][k][x][(m - 2) * 9 + n + 5]\n",
    "\n",
    "                # 第7行\n",
    "                for m in range(1, 8):\n",
    "                    eeg_headMap[x][7][m] = eeg_sub_list[i][j][k][x][m + 49]\n",
    "\n",
    "                # 第8行\n",
    "                for m in range(2, 7):\n",
    "                    eeg_headMap[x][8][m] = eeg_sub_list[i][j][k][x][m + 55]\n",
    "            np.save(\"trials/temporal/subject_\" + str(i) + \"/section_\" + str(j) + \"/trial_temp\" + str(k), eeg_headMap)"
   ]
  },
  {
   "cell_type": "code",
   "execution_count": 8,
   "metadata": {},
   "outputs": [
    {
     "data": {
      "text/plain": [
       "(206, 9, 9, 25)"
      ]
     },
     "execution_count": 8,
     "metadata": {},
     "output_type": "execute_result"
    }
   ],
   "source": [
    "eeg_headMap.shape"
   ]
  },
  {
   "cell_type": "code",
   "execution_count": 9,
   "metadata": {},
   "outputs": [
    {
     "data": {
      "text/plain": [
       "<Figure size 480x480 with 2 Axes>"
      ]
     },
     "metadata": {},
     "output_type": "display_data"
    }
   ],
   "source": [
    "import matplotlib\n",
    "import matplotlib.pyplot as plt\n",
    "import random\n",
    "\n",
    "freqFirst = eeg_headMap.swapaxes(-1, -2).swapaxes(-2, -3)\n",
    "\n",
    "randTr = random.randint(1, eeg_headMap.shape[1])\n",
    "randTime = random.randint(0, 24)\n",
    "\n",
    "arr = freqFirst[2][0]\n",
    "\n",
    "plt.matshow(arr, cmap='hot_r')\n",
    "plt.colorbar()\n",
    "plt.show()\n",
    "\n",
    "del freqFirst"
   ]
  },
  {
   "cell_type": "code",
   "execution_count": 10,
   "metadata": {},
   "outputs": [],
   "source": [
    "# 设置新的边长\n",
    "sideLen = 32"
   ]
  },
  {
   "cell_type": "code",
   "execution_count": 8,
   "metadata": {},
   "outputs": [
    {
     "data": {
      "text/plain": [
       "0"
      ]
     },
     "execution_count": 8,
     "metadata": {},
     "output_type": "execute_result"
    }
   ],
   "source": [
    "del eeg_headMap\n",
    "gc.collect()"
   ]
  },
  {
   "cell_type": "code",
   "execution_count": null,
   "metadata": {},
   "outputs": [],
   "source": [
    "from scipy import interpolate\n",
    "\n",
    "for i in range(15):\n",
    "    for j in range(3):\n",
    "        for k in range(15):\n",
    "            eeg_headMap = np.load(\"trials/temporal/subject_\" + str(i) + \"/section_\" + str(j) + \"/trial_temp\" + str(k) + \".npy\")\n",
    "            eeg_timeFirst = eeg_headMap.swapaxes(-1, -2).swapaxes(-2, -3)\n",
    "            eegMap_bigger = np.zeros([eeg_timeFirst.shape[0], 25, sideLen, sideLen])\n",
    "            for m in range(eeg_timeFirst.shape[0]):  # 样本数循环\n",
    "                for n in range(25):  # 频率循环\n",
    "                    x = np.arange(9)\n",
    "                    y = np.arange(9)\n",
    "                    z = eeg_timeFirst[m][n]  # 取出每一个平面\n",
    "\n",
    "                    f = interpolate.interp2d(x, y, z, kind='cubic')  # cubic为三次\n",
    "                    xnew = np.linspace(0, 8, sideLen)\n",
    "                    ynew = np.linspace(0, 8, sideLen)\n",
    "                    eegMap_bigger[m][n] = f(xnew, ynew)\n",
    "            np.save(\"trials/temporal/subject_\" + str(i) + \"/section_\" + str(j) + \"/trial_interpolated_\" + str(k) + \".npy\", eegMap_bigger)"
   ]
  },
  {
   "cell_type": "code",
   "execution_count": null,
   "metadata": {},
   "outputs": [],
   "source": [
    "# 标准化\n",
    "#sample * time * 32 * 32\n",
    "for i in range(15):\n",
    "    for j in range(3):\n",
    "        for k in range(15):\n",
    "            eegMap = np.load(\"trials/temporal/subject_\" + str(i) + \"/section_\" + str(j) + \"/trial_interpolated_\" + str(k) + \".npy\")\n",
    "            for m in range(eegMap.shape[0]):\n",
    "                for n in range(eegMap.shape[1]):\n",
    "                    eegMap[m][n] = eegMap[m][n] - eegMap[m][n].mean()\n",
    "                        \n",
    "            for m in range(eegMap.shape[0]):\n",
    "                for n in range(eegMap.shape[1]):\n",
    "                    eegMap[m][n] = eegMap[m][n] / eegMap[m][n].std()\n",
    "\n",
    "            # 换轴\n",
    "            eegMap = eegMap.swapaxes(1, 2).swapaxes(2, 3)\n",
    "    \n",
    "            #添加维度\n",
    "            raw_shape = list(eegMap.shape)\n",
    "            raw_shape.append(1)\n",
    "\n",
    "            eegMap = eegMap.reshape(raw_shape)\n",
    "    \n",
    "            # 降低精度为单精度（float32）\n",
    "            dt = np.dtype(np.float32)\n",
    "            eegMap = np.array(eegMap, dtype=dt)\n",
    "            np.save(\"trials/temporal/subject_\" + str(i) + \"/section_\" + str(j) + \"/trial_\" + str(k) + \".npy\", eegMap)"
   ]
  },
  {
   "cell_type": "code",
   "execution_count": null,
   "metadata": {},
   "outputs": [],
   "source": [
    "eegMap.shape"
   ]
  },
  {
   "cell_type": "code",
   "execution_count": null,
   "metadata": {},
   "outputs": [],
   "source": [
    "temMap = eegMap.swapaxes(3, 4).swapaxes(2, 3)\n",
    "\n",
    "import pylab as pl\n",
    "import matplotlib as mpl\n",
    "\n",
    "%matplotlib inline\n",
    "pl.subplot(121)\n",
    "im1 = pl.imshow(eeg_timeFirst[0][0][0], extent=[-1, 1, -1, 1],\n",
    "                cmap=mpl.cm.hot, interpolation='nearest', origin=\"lower\")\n",
    "\n",
    "pl.subplot(122)\n",
    "im2 = pl.imshow(temMap[0][0][4], extent=[-1, 1, -1, 1],\n",
    "                cmap=mpl.cm.hot, interpolation='nearest', origin=\"lower\")\n",
    "pl.colorbar(im2)\n",
    "\n",
    "pl.show()\n",
    "\n",
    "del temMap"
   ]
  },
  {
   "cell_type": "code",
   "execution_count": null,
   "metadata": {},
   "outputs": [],
   "source": []
  }
 ],
 "metadata": {
  "kernelspec": {
   "display_name": "Python 3",
   "language": "python",
   "name": "python3"
  },
  "language_info": {
   "codemirror_mode": {
    "name": "ipython",
    "version": 3
   },
   "file_extension": ".py",
   "mimetype": "text/x-python",
   "name": "python",
   "nbconvert_exporter": "python",
   "pygments_lexer": "ipython3",
   "version": "3.6.9"
  }
 },
 "nbformat": 4,
 "nbformat_minor": 2
}
